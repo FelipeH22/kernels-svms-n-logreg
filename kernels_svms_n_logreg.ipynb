{
  "nbformat": 4,
  "nbformat_minor": 0,
  "metadata": {
    "colab": {
      "provenance": [],
      "gpuType": "T4",
      "include_colab_link": true
    },
    "kernelspec": {
      "name": "python3",
      "display_name": "Python 3 (ipykernel)",
      "language": "python"
    },
    "language_info": {
      "name": "python"
    }
  },
  "cells": [
    {
      "cell_type": "markdown",
      "metadata": {
        "id": "view-in-github",
        "colab_type": "text"
      },
      "source": [
        "<a href=\"https://colab.research.google.com/github/FelipeH22/kernels_svms_n_logreg/blob/main/kernels_svms_n_logreg.ipynb\" target=\"_parent\"><img src=\"https://colab.research.google.com/assets/colab-badge.svg\" alt=\"Open In Colab\"/></a>"
      ]
    },
    {
      "metadata": {
        "id": "B5I4VvoiW_xk"
      },
      "cell_type": "markdown",
      "source": [
        "## String kernels for SVM"
      ]
    },
    {
      "cell_type": "code",
      "source": [
        "import requests\n",
        "import unidecode\n",
        "import pandas as pd\n",
        "from sklearn.svm import SVC\n",
        "from bs4 import BeautifulSoup\n",
        "import matplotlib.pyplot as plt\n",
        "from sklearn.metrics import accuracy_score\n",
        "from sklearn.metrics.pairwise import chi2_kernel\n",
        "from sklearn.model_selection import GridSearchCV\n",
        "from sklearn.model_selection import train_test_split\n",
        "from sklearn.metrics.pairwise import cosine_similarity\n",
        "from sklearn.feature_extraction.text import CountVectorizer"
      ],
      "metadata": {
        "id": "3JOX-8Ojb8QS",
        "ExecuteTime": {
          "end_time": "2024-05-02T05:02:53.065265Z",
          "start_time": "2024-05-02T05:02:46.001318Z"
        }
      },
      "outputs": [],
      "execution_count": null
    },
    {
      "cell_type": "code",
      "source": [
        "english_url = \"https://en.wiktionary.org/wiki/Wiktionary:Frequency_lists/English/Wikipedia_(2016)\"\n",
        "spanish_url = \"https://en.wiktionary.org/wiki/Wiktionary:Frequency_lists/Spanish/Mixed_730K\""
      ],
      "metadata": {
        "id": "0eOPqTUKa4bE",
        "ExecuteTime": {
          "end_time": "2024-05-02T05:02:53.072076Z",
          "start_time": "2024-05-02T05:02:53.065265Z"
        }
      },
      "outputs": [],
      "execution_count": null
    },
    {
      "metadata": {
        "id": "Ef5Jj7KYW_xo"
      },
      "cell_type": "markdown",
      "source": [
        "The following cell extracts the words from the webpages omitting certain tags and characters that could be retrieved when performing the web scraping. Posible accents and other characters are removed"
      ]
    },
    {
      "metadata": {
        "id": "7uimwIXWW_xo"
      },
      "cell_type": "markdown",
      "source": [
        "(english words)"
      ]
    },
    {
      "cell_type": "code",
      "metadata": {
        "id": "OF2U9uzJZ-kg",
        "ExecuteTime": {
          "end_time": "2024-05-02T05:02:54.427231Z",
          "start_time": "2024-05-02T05:02:53.073129Z"
        }
      },
      "source": [
        "response = requests.get(english_url)\n",
        "html = BeautifulSoup(response.text, 'html.parser')\n",
        "tags = html.find_all(\"a\")\n",
        "english_words = list(set([unidecode.unidecode(tag.text).lower() for tag in tags\n",
        "                 if len(tag.text) > 3 and \" \" not in tag.text\n",
        "                 and \":/\" not in tag.text and \"-\" not in tag.text]))"
      ],
      "outputs": [],
      "execution_count": null
    },
    {
      "metadata": {
        "id": "IS9bMyF1W_xp"
      },
      "cell_type": "markdown",
      "source": [
        "(spanish words)"
      ]
    },
    {
      "cell_type": "code",
      "source": [
        "response = requests.get(spanish_url)\n",
        "html = BeautifulSoup(response.text, 'html.parser')\n",
        "tags = html.find_all(\"a\")\n",
        "spanish_words = list(set([unidecode.unidecode(tag.text).lower() for tag in tags\n",
        "                 if len(tag.text) > 3 and \" \" not in tag.text\n",
        "                 and \":/\" not in tag.text and \"-\" not in tag.text]))"
      ],
      "metadata": {
        "id": "T1KJqt2L53Gw",
        "ExecuteTime": {
          "end_time": "2024-05-02T05:02:55.834825Z",
          "start_time": "2024-05-02T05:02:54.427231Z"
        }
      },
      "outputs": [],
      "execution_count": null
    },
    {
      "cell_type": "code",
      "source": [
        "english_words = pd.DataFrame({\"words\": english_words, \"label\": [0 for _ in range(len(english_words))]})\n",
        "print(english_words.shape)\n",
        "english_words.head(3)"
      ],
      "metadata": {
        "id": "n7sYESAwC7Xg",
        "colab": {
          "base_uri": "https://localhost:8080/",
          "height": 160
        },
        "outputId": "5d9971cc-ea46-47f2-c342-7aab35c09dad",
        "ExecuteTime": {
          "end_time": "2024-05-02T05:02:55.859515Z",
          "start_time": "2024-05-02T05:02:55.834825Z"
        }
      },
      "outputs": [
        {
          "name": "stdout",
          "output_type": "stream",
          "text": [
            "(8581, 2)\n"
          ]
        },
        {
          "data": {
            "text/plain": [
              "        words  label\n",
              "0  collisions      0\n",
              "1   lightning      0\n",
              "2     started      0"
            ],
            "text/html": [
              "<div>\n",
              "<style scoped>\n",
              "    .dataframe tbody tr th:only-of-type {\n",
              "        vertical-align: middle;\n",
              "    }\n",
              "\n",
              "    .dataframe tbody tr th {\n",
              "        vertical-align: top;\n",
              "    }\n",
              "\n",
              "    .dataframe thead th {\n",
              "        text-align: right;\n",
              "    }\n",
              "</style>\n",
              "<table border=\"1\" class=\"dataframe\">\n",
              "  <thead>\n",
              "    <tr style=\"text-align: right;\">\n",
              "      <th></th>\n",
              "      <th>words</th>\n",
              "      <th>label</th>\n",
              "    </tr>\n",
              "  </thead>\n",
              "  <tbody>\n",
              "    <tr>\n",
              "      <th>0</th>\n",
              "      <td>collisions</td>\n",
              "      <td>0</td>\n",
              "    </tr>\n",
              "    <tr>\n",
              "      <th>1</th>\n",
              "      <td>lightning</td>\n",
              "      <td>0</td>\n",
              "    </tr>\n",
              "    <tr>\n",
              "      <th>2</th>\n",
              "      <td>started</td>\n",
              "      <td>0</td>\n",
              "    </tr>\n",
              "  </tbody>\n",
              "</table>\n",
              "</div>"
            ]
          },
          "execution_count": 5,
          "metadata": {},
          "output_type": "execute_result"
        }
      ],
      "execution_count": null
    },
    {
      "cell_type": "code",
      "source": [
        "spanish_words = pd.DataFrame({\"words\": spanish_words, \"label\": [1 for _ in range(len(spanish_words))]})\n",
        "spanish_words = spanish_words.sample(english_words.shape[0])\n",
        "print(spanish_words.shape)\n",
        "spanish_words.head(3)"
      ],
      "metadata": {
        "id": "UEQtmMaUEQ47",
        "colab": {
          "base_uri": "https://localhost:8080/",
          "height": 160
        },
        "outputId": "a2a8d589-b3ab-4df7-a0d0-a6eef5d1b446",
        "ExecuteTime": {
          "end_time": "2024-05-02T05:02:55.875161Z",
          "start_time": "2024-05-02T05:02:55.859515Z"
        }
      },
      "outputs": [
        {
          "name": "stdout",
          "output_type": "stream",
          "text": [
            "(8581, 2)\n"
          ]
        },
        {
          "data": {
            "text/plain": [
              "       words  label\n",
              "1512  emplea      1\n",
              "708   dioses      1\n",
              "8476   viajo      1"
            ],
            "text/html": [
              "<div>\n",
              "<style scoped>\n",
              "    .dataframe tbody tr th:only-of-type {\n",
              "        vertical-align: middle;\n",
              "    }\n",
              "\n",
              "    .dataframe tbody tr th {\n",
              "        vertical-align: top;\n",
              "    }\n",
              "\n",
              "    .dataframe thead th {\n",
              "        text-align: right;\n",
              "    }\n",
              "</style>\n",
              "<table border=\"1\" class=\"dataframe\">\n",
              "  <thead>\n",
              "    <tr style=\"text-align: right;\">\n",
              "      <th></th>\n",
              "      <th>words</th>\n",
              "      <th>label</th>\n",
              "    </tr>\n",
              "  </thead>\n",
              "  <tbody>\n",
              "    <tr>\n",
              "      <th>1512</th>\n",
              "      <td>emplea</td>\n",
              "      <td>1</td>\n",
              "    </tr>\n",
              "    <tr>\n",
              "      <th>708</th>\n",
              "      <td>dioses</td>\n",
              "      <td>1</td>\n",
              "    </tr>\n",
              "    <tr>\n",
              "      <th>8476</th>\n",
              "      <td>viajo</td>\n",
              "      <td>1</td>\n",
              "    </tr>\n",
              "  </tbody>\n",
              "</table>\n",
              "</div>"
            ]
          },
          "execution_count": 6,
          "metadata": {},
          "output_type": "execute_result"
        }
      ],
      "execution_count": null
    },
    {
      "metadata": {
        "id": "V-I6e25rW_xq"
      },
      "cell_type": "markdown",
      "source": [
        "English and spanish words are put together in a dataframe. A sample is performed in order to use only the half of the data because of the computational resources available and to make the execution time manageable"
      ]
    },
    {
      "cell_type": "code",
      "source": [
        "words = pd.concat([english_words, spanish_words])\n",
        "words = words.sample(frac=.5)\n",
        "words.head(10)"
      ],
      "metadata": {
        "id": "2F_Q0kVKEVtl",
        "colab": {
          "base_uri": "https://localhost:8080/",
          "height": 363
        },
        "outputId": "0bed0802-399e-4a96-87b2-95344e63e6f3",
        "ExecuteTime": {
          "end_time": "2024-05-02T05:02:55.890286Z",
          "start_time": "2024-05-02T05:02:55.875161Z"
        }
      },
      "outputs": [
        {
          "data": {
            "text/plain": [
              "           words  label\n",
              "2785        burn      0\n",
              "2142  friendship      0\n",
              "8061     postwar      0\n",
              "4646    vigentes      1\n",
              "2912       going      0\n",
              "3526      shifts      0\n",
              "7904    lesiones      1\n",
              "3702     persian      0\n",
              "5112   targeting      0\n",
              "3376        chen      0"
            ],
            "text/html": [
              "<div>\n",
              "<style scoped>\n",
              "    .dataframe tbody tr th:only-of-type {\n",
              "        vertical-align: middle;\n",
              "    }\n",
              "\n",
              "    .dataframe tbody tr th {\n",
              "        vertical-align: top;\n",
              "    }\n",
              "\n",
              "    .dataframe thead th {\n",
              "        text-align: right;\n",
              "    }\n",
              "</style>\n",
              "<table border=\"1\" class=\"dataframe\">\n",
              "  <thead>\n",
              "    <tr style=\"text-align: right;\">\n",
              "      <th></th>\n",
              "      <th>words</th>\n",
              "      <th>label</th>\n",
              "    </tr>\n",
              "  </thead>\n",
              "  <tbody>\n",
              "    <tr>\n",
              "      <th>2785</th>\n",
              "      <td>burn</td>\n",
              "      <td>0</td>\n",
              "    </tr>\n",
              "    <tr>\n",
              "      <th>2142</th>\n",
              "      <td>friendship</td>\n",
              "      <td>0</td>\n",
              "    </tr>\n",
              "    <tr>\n",
              "      <th>8061</th>\n",
              "      <td>postwar</td>\n",
              "      <td>0</td>\n",
              "    </tr>\n",
              "    <tr>\n",
              "      <th>4646</th>\n",
              "      <td>vigentes</td>\n",
              "      <td>1</td>\n",
              "    </tr>\n",
              "    <tr>\n",
              "      <th>2912</th>\n",
              "      <td>going</td>\n",
              "      <td>0</td>\n",
              "    </tr>\n",
              "    <tr>\n",
              "      <th>3526</th>\n",
              "      <td>shifts</td>\n",
              "      <td>0</td>\n",
              "    </tr>\n",
              "    <tr>\n",
              "      <th>7904</th>\n",
              "      <td>lesiones</td>\n",
              "      <td>1</td>\n",
              "    </tr>\n",
              "    <tr>\n",
              "      <th>3702</th>\n",
              "      <td>persian</td>\n",
              "      <td>0</td>\n",
              "    </tr>\n",
              "    <tr>\n",
              "      <th>5112</th>\n",
              "      <td>targeting</td>\n",
              "      <td>0</td>\n",
              "    </tr>\n",
              "    <tr>\n",
              "      <th>3376</th>\n",
              "      <td>chen</td>\n",
              "      <td>0</td>\n",
              "    </tr>\n",
              "  </tbody>\n",
              "</table>\n",
              "</div>"
            ]
          },
          "execution_count": 7,
          "metadata": {},
          "output_type": "execute_result"
        }
      ],
      "execution_count": null
    },
    {
      "metadata": {
        "id": "Wv_5JCJvW_xq"
      },
      "cell_type": "markdown",
      "source": [
        "Data is split into train (80%) and test (20%)"
      ]
    },
    {
      "cell_type": "code",
      "source": [
        "X_train, X_test, y_train, y_test = train_test_split(words[\"words\"].to_numpy(), words['label'].to_numpy(), test_size=0.2)\n",
        "X_train.shape, y_train.shape, X_test.shape, y_test.shape"
      ],
      "metadata": {
        "id": "2-lgLrJw6EuN",
        "colab": {
          "base_uri": "https://localhost:8080/"
        },
        "outputId": "917f2876-dd7f-4b82-93f6-fcdeea35f054",
        "ExecuteTime": {
          "end_time": "2024-05-02T05:02:55.901586Z",
          "start_time": "2024-05-02T05:02:55.891998Z"
        }
      },
      "outputs": [
        {
          "data": {
            "text/plain": [
              "((6864,), (6864,), (1717,), (1717,))"
            ]
          },
          "execution_count": 8,
          "metadata": {},
          "output_type": "execute_result"
        }
      ],
      "execution_count": null
    },
    {
      "metadata": {
        "id": "hFDwsiuEW_xr"
      },
      "cell_type": "markdown",
      "source": [
        "Function that take training dataset as an input and train a SVM using the kernel sent as an argument. Grid search is implemented varying the C value in $\\{2x10^{-5}, 2x10^{-4}, ..., 2x10^{5}\\}$ and Cross Validation. The results are shown in a plot and the best estimator and the vectorizer are returned"
      ]
    },
    {
      "cell_type": "code",
      "source": [
        "def vectorize_n_train(X_train, y_train, kernel, ngram_rg=(1, 1)):\n",
        "  vectorizer = CountVectorizer(analyzer='char', ngram_range=ngram_rg)\n",
        "  X = vectorizer.fit_transform(X_train)\n",
        "  # Training using CV and kernel provided\n",
        "  support_machine = SVC()\n",
        "  clf = GridSearchCV(support_machine, {\"kernel\":[kernel],\n",
        "                                      \"C\": [2*(10**(i)) for i in range(-5, 5)]},\n",
        "                    return_train_score=True, refit=True)\n",
        "  clf.fit(X.toarray(), y_train)\n",
        "  plt.plot([2*(10**(i)) for i in range(-5, 5)], clf.cv_results_[\"mean_test_score\"], label=\"test_acc\")\n",
        "  plt.plot([2*(10**(i)) for i in range(-5, 5)], clf.cv_results_[\"mean_train_score\"], label=\"train_acc\")\n",
        "  plt.xlabel(\"C\")\n",
        "  plt.ylabel(\"Accuracy\")\n",
        "  plt.legend()\n",
        "  plt.show()\n",
        "  best_estimator = clf.best_estimator_\n",
        "  return best_estimator, vectorizer"
      ],
      "metadata": {
        "id": "REbnVEVT-JZF",
        "ExecuteTime": {
          "end_time": "2024-05-02T05:02:55.910189Z",
          "start_time": "2024-05-02T05:02:55.903179Z"
        }
      },
      "outputs": [],
      "execution_count": null
    },
    {
      "metadata": {
        "id": "5cyLOnknW_xs"
      },
      "cell_type": "markdown",
      "source": [
        "Best estimator and plot for cosine_similiarity kernel"
      ]
    },
    {
      "cell_type": "code",
      "source": [
        "cosine_sim_estimator, vectorizer = vectorize_n_train(X_train, y_train, cosine_similarity)"
      ],
      "metadata": {
        "id": "CDV8CFx5-_V_",
        "ExecuteTime": {
          "end_time": "2024-05-02T05:17:04.172835Z",
          "start_time": "2024-05-02T05:02:55.910189Z"
        },
        "outputId": "0034065c-9eec-41e9-a82b-1a2e08ab8b11"
      },
      "outputs": [
        {
          "data": {
            "text/plain": [
              "<Figure size 640x480 with 1 Axes>"
            ],
            "image/png": "[encoded data removed]"
          },
          "metadata": {},
          "output_type": "display_data"
        }
      ],
      "execution_count": null
    },
    {
      "metadata": {
        "id": "WJYv8ItdW_xs"
      },
      "cell_type": "markdown",
      "source": [
        "Best estimator and plot for chi_square kernel"
      ]
    },
    {
      "cell_type": "code",
      "source": [
        "chi_estimator, vectorizer_chi = vectorize_n_train(X_train, y_train, chi2_kernel)"
      ],
      "metadata": {
        "colab": {
          "base_uri": "https://localhost:8080/",
          "height": 651
        },
        "id": "ECj6kughAE92",
        "outputId": "93170f4c-5d8b-4cff-a4c1-aeba99ec0f4e",
        "ExecuteTime": {
          "end_time": "2024-05-02T05:21:20.804836Z",
          "start_time": "2024-05-02T05:17:04.174362Z"
        }
      },
      "outputs": [
        {
          "data": {
            "text/plain": [
              "<Figure size 640x480 with 1 Axes>"
            ],
            "image/png": "[encoded data removed]"
          },
          "metadata": {},
          "output_type": "display_data"
        }
      ],
      "execution_count": null
    },
    {
      "metadata": {
        "ExecuteTime": {
          "end_time": "2024-05-02T05:21:21.678944Z",
          "start_time": "2024-05-02T05:21:20.806916Z"
        },
        "id": "1E53WrzAW_xs"
      },
      "cell_type": "code",
      "source": [
        "y_pred = chi_estimator.predict(vectorizer_chi.transform(X_test).toarray())\n",
        "chi_acc = accuracy_score(y_test, y_pred)"
      ],
      "outputs": [],
      "execution_count": null
    },
    {
      "metadata": {
        "id": "OGNNesr_W_xs"
      },
      "cell_type": "markdown",
      "source": [
        "n-grams representation normalized"
      ]
    },
    {
      "metadata": {
        "ExecuteTime": {
          "end_time": "2024-05-02T05:21:21.720072Z",
          "start_time": "2024-05-02T05:21:21.680062Z"
        },
        "id": "Zcv6K4dZW_xs",
        "outputId": "2464765c-b034-4b90-8d2f-2be356e5b204"
      },
      "cell_type": "code",
      "source": [
        "vec = CountVectorizer(analyzer='char', ngram_range=(1, 2))\n",
        "X = vectorizer.fit_transform(X_train).toarray()\n",
        "X = X / X.sum(axis=1, keepdims=True)\n",
        "sum_of_minimums = X.min(axis=0).sum()\n",
        "print(f\"Bag of n-grams representation normalized:\\n{X}\\nwith shape {X.shape}\")\n",
        "print(f\"Sum of minimums for each bin: {sum_of_minimums}\")"
      ],
      "outputs": [
        {
          "name": "stdout",
          "output_type": "stream",
          "text": [
            "Bag of n-grams representation normalized:\n",
            "[[0. 0. 0. ... 0. 0. 0.]\n",
            " [0. 0. 0. ... 0. 0. 0.]\n",
            " [0. 0. 0. ... 0. 0. 0.]\n",
            " ...\n",
            " [0. 0. 0. ... 0. 0. 0.]\n",
            " [0. 0. 0. ... 0. 0. 0.]\n",
            " [0. 0. 0. ... 0. 0. 0.]]\n",
            "with shape (6864, 29)\n",
            "Sum of minimums for each bin: 0.0\n"
          ]
        }
      ],
      "execution_count": null
    },
    {
      "cell_type": "markdown",
      "source": [
        "## MNIST two-digits classifier (SVM)"
      ],
      "metadata": {
        "id": "x-ywt3Z0n9cg"
      }
    },
    {
      "cell_type": "code",
      "source": [
        "import numpy as np\n",
        "import seaborn as sns\n",
        "import matplotlib.pyplot as plt\n",
        "from sklearn.svm import SVC\n",
        "from sklearn.datasets import fetch_openml\n",
        "from sklearn.metrics import accuracy_score\n",
        "from sklearn.preprocessing import StandardScaler\n",
        "from sklearn.model_selection import GridSearchCV\n",
        "from sklearn.model_selection import train_test_split"
      ],
      "metadata": {
        "id": "eeyGVaYcn-aO",
        "ExecuteTime": {
          "end_time": "2024-05-02T05:21:22.524859Z",
          "start_time": "2024-05-02T05:21:21.721721Z"
        }
      },
      "outputs": [],
      "execution_count": null
    },
    {
      "cell_type": "code",
      "source": [
        "sns.set_theme()"
      ],
      "metadata": {
        "id": "Blx5730XvMir",
        "ExecuteTime": {
          "end_time": "2024-05-02T05:21:22.531394Z",
          "start_time": "2024-05-02T05:21:22.524859Z"
        }
      },
      "outputs": [],
      "execution_count": null
    },
    {
      "metadata": {
        "id": "HWAf93cGW_xt"
      },
      "cell_type": "markdown",
      "source": [
        "In order to download the data, the following cell is executed.\n",
        "\n",
        "Data will be stored in two variables X and y and the shapes are shown at the cell output"
      ]
    },
    {
      "cell_type": "code",
      "source": [
        "X, y = fetch_openml(\"mnist_784\", version=1, return_X_y=True, as_frame=False)\n",
        "X.shape, y.shape"
      ],
      "metadata": {
        "colab": {
          "base_uri": "https://localhost:8080/"
        },
        "id": "Itb5VjLLoeBF",
        "outputId": "77933ae3-b212-4bbd-d69a-6ca0f834868e",
        "ExecuteTime": {
          "end_time": "2024-05-02T05:21:37.452839Z",
          "start_time": "2024-05-02T05:21:22.533513Z"
        }
      },
      "outputs": [
        {
          "data": {
            "text/plain": [
              "((70000, 784), (70000,))"
            ]
          },
          "execution_count": 16,
          "metadata": {},
          "output_type": "execute_result"
        }
      ],
      "execution_count": null
    },
    {
      "metadata": {
        "id": "as-wl-p1W_xt"
      },
      "cell_type": "markdown",
      "source": [
        "For training and testing data split, the following cells are defined, the test dataset corresponds to 20% of the whole data obtained  "
      ]
    },
    {
      "cell_type": "code",
      "source": [
        "X_train, X_test, y_train, y_test = train_test_split(X, y, test_size=0.2)"
      ],
      "metadata": {
        "id": "rMo6ZiDzoinX",
        "ExecuteTime": {
          "end_time": "2024-05-02T05:21:38.505654Z",
          "start_time": "2024-05-02T05:21:37.453845Z"
        }
      },
      "outputs": [],
      "execution_count": null
    },
    {
      "metadata": {
        "id": "sItlx_aNW_xt"
      },
      "cell_type": "markdown",
      "source": [
        "The images' pixels are rescaled in order to obtain smaller values. They are standarized (mean 0 and std 1)using the StandardScaler method and applied to the train dataset and test dataset."
      ]
    },
    {
      "cell_type": "code",
      "source": [
        "scaler = StandardScaler()\n",
        "X_train = scaler.fit_transform(X_train)\n",
        "X_test = scaler.transform(X_test)"
      ],
      "metadata": {
        "id": "Gywxrlj0ojDp",
        "ExecuteTime": {
          "end_time": "2024-05-02T05:21:39.591787Z",
          "start_time": "2024-05-02T05:21:38.506690Z"
        }
      },
      "outputs": [],
      "execution_count": null
    },
    {
      "metadata": {
        "id": "CoxHGXU5W_xt"
      },
      "cell_type": "markdown",
      "source": [
        "Since the classification is intended only between two digits, a function is built in order to extract them filtering by the d1 and d2 arguments."
      ]
    },
    {
      "cell_type": "code",
      "source": [
        "def get_two_digits(x_train, x_test, label_train, label_test, d1, d2):\n",
        "  d1_train_index = np.where(label_train == str(d1))\n",
        "  d1_test_index = np.where(label_test == str(d1))\n",
        "  d2_train_index = np.where(label_train == str(d2))\n",
        "  d2_test_index = np.where(label_test == str(d2))\n",
        "  X_train_d1, X_test_d1, y_train_d1, y_test_d1 = (x_train[d1_train_index],\n",
        "                                             x_test[d1_test_index],\n",
        "                                             label_train[d1_train_index],\n",
        "                                             label_test[d1_test_index])\n",
        "  X_train_d2, X_test_d2, y_train_d2, y_test_d2 = (x_train[d2_train_index],\n",
        "                                             x_test[d2_test_index],\n",
        "                                             label_train[d2_train_index],\n",
        "                                             label_test[d2_test_index])\n",
        "  new_X_train = np.append(X_train_d1, X_train_d2, 0)\n",
        "  new_y_train = np.append(y_train_d1, y_train_d2, 0)\n",
        "  new_X_test = np.append(X_test_d1, X_test_d2, 0)\n",
        "  new_y_test = np.append(y_test_d1, y_test_d2, 0)\n",
        "\n",
        "  return new_X_train, new_y_train, new_X_test, new_y_test"
      ],
      "metadata": {
        "id": "kJ3C__jWs_uC",
        "ExecuteTime": {
          "end_time": "2024-05-02T05:21:39.603107Z",
          "start_time": "2024-05-02T05:21:39.592795Z"
        }
      },
      "outputs": [],
      "execution_count": null
    },
    {
      "cell_type": "code",
      "source": [
        "new_X_train, new_y_train, new_X_test, new_y_test = get_two_digits(X_train, X_test, y_train, y_test, 3, 6)\n",
        "new_X_train.shape, new_y_train.shape, new_X_test.shape, new_y_test.shape"
      ],
      "metadata": {
        "colab": {
          "base_uri": "https://localhost:8080/"
        },
        "id": "8swxx1KjvEWs",
        "outputId": "71128a06-2e58-4ffa-ea8c-543564c8e6a1",
        "ExecuteTime": {
          "end_time": "2024-05-02T05:21:39.674358Z",
          "start_time": "2024-05-02T05:21:39.603107Z"
        }
      },
      "outputs": [
        {
          "data": {
            "text/plain": [
              "((11223, 784), (11223,), (2794, 784), (2794,))"
            ]
          },
          "execution_count": 20,
          "metadata": {},
          "output_type": "execute_result"
        }
      ],
      "execution_count": null
    },
    {
      "cell_type": "code",
      "source": [
        "first_class_example = np.where(new_y_train == '3')[0][2]\n",
        "plt.imshow(new_X_train[first_class_example].reshape(28,28), cmap=\"gray\")\n",
        "plt.grid(False)\n",
        "plt.xticks([])\n",
        "plt.yticks([])\n",
        "plt.title(f\"Digit: {new_y_train[first_class_example]}\")\n",
        "plt.show()"
      ],
      "metadata": {
        "colab": {
          "base_uri": "https://localhost:8080/",
          "height": 428
        },
        "id": "uYPXISLfvHyO",
        "outputId": "822924c5-20b3-4b7c-b327-200e9fe8bbb2",
        "ExecuteTime": {
          "end_time": "2024-05-02T05:21:39.801760Z",
          "start_time": "2024-05-02T05:21:39.677174Z"
        }
      },
      "outputs": [
        {
          "data": {
            "text/plain": [
              "<Figure size 640x480 with 1 Axes>"
            ],
            "image/png": "[encoded data removed]"
          },
          "metadata": {},
          "output_type": "display_data"
        }
      ],
      "execution_count": null
    },
    {
      "cell_type": "code",
      "source": [
        "second_class_example = np.where(new_y_train == '6')[0][2]\n",
        "plt.imshow(new_X_train[second_class_example].reshape(28,28), cmap=\"gray\")\n",
        "plt.grid(False)\n",
        "plt.xticks([])\n",
        "plt.yticks([])\n",
        "plt.title(f\"Digit: {new_y_train[second_class_example]}\")\n",
        "plt.show()"
      ],
      "metadata": {
        "colab": {
          "base_uri": "https://localhost:8080/",
          "height": 428
        },
        "id": "Csb6C3FQvwMS",
        "outputId": "9d0ad5d0-faea-49ae-9c1f-e5005a41d690",
        "ExecuteTime": {
          "end_time": "2024-05-02T05:21:39.922551Z",
          "start_time": "2024-05-02T05:21:39.807762Z"
        }
      },
      "outputs": [
        {
          "data": {
            "text/plain": [
              "<Figure size 640x480 with 1 Axes>"
            ],
            "image/png": "[encoded data removed]"
          },
          "metadata": {},
          "output_type": "display_data"
        }
      ],
      "execution_count": null
    },
    {
      "metadata": {
        "id": "eYlGOQ6fW_xu"
      },
      "cell_type": "markdown",
      "source": [
        "The cross validation is built using grid search and its corresponding sklearn function defining the kernel as linear and varying the C value between the $\\{2x10^{-15}, 2x10^{-14}, ..., 2x10^{10}\\}$ values and setting specific parameters for the method like returning the training score for plotting the score later and also the refit parameter in order to refit the best estimator (with the hyperparameters that got the best performance) with the whole training dataset (because of the cross validation training-validation automatic split)."
      ]
    },
    {
      "cell_type": "code",
      "source": [
        "support_machine = SVC()\n",
        "clf = GridSearchCV(support_machine, {\"kernel\":[ \"linear\"],\n",
        "                                     \"C\": [2*(10**(i)) for i in range(-15, 10)]},\n",
        "                   return_train_score=True, refit=True)"
      ],
      "metadata": {
        "id": "7BojKTGivz6k",
        "ExecuteTime": {
          "end_time": "2024-05-02T05:21:39.931681Z",
          "start_time": "2024-05-02T05:21:39.923567Z"
        }
      },
      "outputs": [],
      "execution_count": null
    },
    {
      "cell_type": "code",
      "source": [
        "clf.fit(new_X_train, new_y_train)"
      ],
      "metadata": {
        "id": "V05f8WlsDnDR",
        "colab": {
          "base_uri": "https://localhost:8080/",
          "height": 116
        },
        "outputId": "69eb2cce-e23d-428f-da2a-c7a19ca87d61",
        "ExecuteTime": {
          "end_time": "2024-05-02T06:16:58.276849Z",
          "start_time": "2024-05-02T05:21:39.932943Z"
        }
      },
      "outputs": [
        {
          "data": {
            "text/plain": [
              "GridSearchCV(estimator=SVC(),\n",
              "             param_grid={'C': [2e-15, 2e-14, 2e-13, 2e-12, 2e-11, 2e-10, 2e-09,\n",
              "                               2e-08, 2e-07, 2e-06, 2e-05, 0.0002, 0.002, 0.02,\n",
              "                               0.2, 2, 20, 200, 2000, 20000, 200000, 2000000,\n",
              "                               20000000, 200000000, 2000000000],\n",
              "                         'kernel': ['linear']},\n",
              "             return_train_score=True)"
            ],
            "text/html": [
              "<style>#sk-container-id-1 {\n",
              "  /* Definition of color scheme common for light and dark mode */\n",
              "  --sklearn-color-text: black;\n",
              "  --sklearn-color-line: gray;\n",
              "  /* Definition of color scheme for unfitted estimators */\n",
              "  --sklearn-color-unfitted-level-0: #fff5e6;\n",
              "  --sklearn-color-unfitted-level-1: #f6e4d2;\n",
              "  --sklearn-color-unfitted-level-2: #ffe0b3;\n",
              "  --sklearn-color-unfitted-level-3: chocolate;\n",
              "  /* Definition of color scheme for fitted estimators */\n",
              "  --sklearn-color-fitted-level-0: #f0f8ff;\n",
              "  --sklearn-color-fitted-level-1: #d4ebff;\n",
              "  --sklearn-color-fitted-level-2: #b3dbfd;\n",
              "  --sklearn-color-fitted-level-3: cornflowerblue;\n",
              "\n",
              "  /* Specific color for light theme */\n",
              "  --sklearn-color-text-on-default-background: var(--sg-text-color, var(--theme-code-foreground, var(--jp-content-font-color1, black)));\n",
              "  --sklearn-color-background: var(--sg-background-color, var(--theme-background, var(--jp-layout-color0, white)));\n",
              "  --sklearn-color-border-box: var(--sg-text-color, var(--theme-code-foreground, var(--jp-content-font-color1, black)));\n",
              "  --sklearn-color-icon: #696969;\n",
              "\n",
              "  @media (prefers-color-scheme: dark) {\n",
              "    /* Redefinition of color scheme for dark theme */\n",
              "    --sklearn-color-text-on-default-background: var(--sg-text-color, var(--theme-code-foreground, var(--jp-content-font-color1, white)));\n",
              "    --sklearn-color-background: var(--sg-background-color, var(--theme-background, var(--jp-layout-color0, #111)));\n",
              "    --sklearn-color-border-box: var(--sg-text-color, var(--theme-code-foreground, var(--jp-content-font-color1, white)));\n",
              "    --sklearn-color-icon: #878787;\n",
              "  }\n",
              "}\n",
              "\n",
              "#sk-container-id-1 {\n",
              "  color: var(--sklearn-color-text);\n",
              "}\n",
              "\n",
              "#sk-container-id-1 pre {\n",
              "  padding: 0;\n",
              "}\n",
              "\n",
              "#sk-container-id-1 input.sk-hidden--visually {\n",
              "  border: 0;\n",
              "  clip: rect(1px 1px 1px 1px);\n",
              "  clip: rect(1px, 1px, 1px, 1px);\n",
              "  height: 1px;\n",
              "  margin: -1px;\n",
              "  overflow: hidden;\n",
              "  padding: 0;\n",
              "  position: absolute;\n",
              "  width: 1px;\n",
              "}\n",
              "\n",
              "#sk-container-id-1 div.sk-dashed-wrapped {\n",
              "  border: 1px dashed var(--sklearn-color-line);\n",
              "  margin: 0 0.4em 0.5em 0.4em;\n",
              "  box-sizing: border-box;\n",
              "  padding-bottom: 0.4em;\n",
              "  background-color: var(--sklearn-color-background);\n",
              "}\n",
              "\n",
              "#sk-container-id-1 div.sk-container {\n",
              "  /* jupyter's `normalize.less` sets `[hidden] { display: none; }`\n",
              "     but bootstrap.min.css set `[hidden] { display: none !important; }`\n",
              "     so we also need the `!important` here to be able to override the\n",
              "     default hidden behavior on the sphinx rendered scikit-learn.org.\n",
              "     See: https://github.com/scikit-learn/scikit-learn/issues/21755 */\n",
              "  display: inline-block !important;\n",
              "  position: relative;\n",
              "}\n",
              "\n",
              "#sk-container-id-1 div.sk-text-repr-fallback {\n",
              "  display: none;\n",
              "}\n",
              "\n",
              "div.sk-parallel-item,\n",
              "div.sk-serial,\n",
              "div.sk-item {\n",
              "  /* draw centered vertical line to link estimators */\n",
              "  background-image: linear-gradient(var(--sklearn-color-text-on-default-background), var(--sklearn-color-text-on-default-background));\n",
              "  background-size: 2px 100%;\n",
              "  background-repeat: no-repeat;\n",
              "  background-position: center center;\n",
              "}\n",
              "\n",
              "/* Parallel-specific style estimator block */\n",
              "\n",
              "#sk-container-id-1 div.sk-parallel-item::after {\n",
              "  content: \"\";\n",
              "  width: 100%;\n",
              "  border-bottom: 2px solid var(--sklearn-color-text-on-default-background);\n",
              "  flex-grow: 1;\n",
              "}\n",
              "\n",
              "#sk-container-id-1 div.sk-parallel {\n",
              "  display: flex;\n",
              "  align-items: stretch;\n",
              "  justify-content: center;\n",
              "  background-color: var(--sklearn-color-background);\n",
              "  position: relative;\n",
              "}\n",
              "\n",
              "#sk-container-id-1 div.sk-parallel-item {\n",
              "  display: flex;\n",
              "  flex-direction: column;\n",
              "}\n",
              "\n",
              "#sk-container-id-1 div.sk-parallel-item:first-child::after {\n",
              "  align-self: flex-end;\n",
              "  width: 50%;\n",
              "}\n",
              "\n",
              "#sk-container-id-1 div.sk-parallel-item:last-child::after {\n",
              "  align-self: flex-start;\n",
              "  width: 50%;\n",
              "}\n",
              "\n",
              "#sk-container-id-1 div.sk-parallel-item:only-child::after {\n",
              "  width: 0;\n",
              "}\n",
              "\n",
              "/* Serial-specific style estimator block */\n",
              "\n",
              "#sk-container-id-1 div.sk-serial {\n",
              "  display: flex;\n",
              "  flex-direction: column;\n",
              "  align-items: center;\n",
              "  background-color: var(--sklearn-color-background);\n",
              "  padding-right: 1em;\n",
              "  padding-left: 1em;\n",
              "}\n",
              "\n",
              "\n",
              "/* Toggleable style: style used for estimator/Pipeline/ColumnTransformer box that is\n",
              "clickable and can be expanded/collapsed.\n",
              "- Pipeline and ColumnTransformer use this feature and define the default style\n",
              "- Estimators will overwrite some part of the style using the `sk-estimator` class\n",
              "*/\n",
              "\n",
              "/* Pipeline and ColumnTransformer style (default) */\n",
              "\n",
              "#sk-container-id-1 div.sk-toggleable {\n",
              "  /* Default theme specific background. It is overwritten whether we have a\n",
              "  specific estimator or a Pipeline/ColumnTransformer */\n",
              "  background-color: var(--sklearn-color-background);\n",
              "}\n",
              "\n",
              "/* Toggleable label */\n",
              "#sk-container-id-1 label.sk-toggleable__label {\n",
              "  cursor: pointer;\n",
              "  display: block;\n",
              "  width: 100%;\n",
              "  margin-bottom: 0;\n",
              "  padding: 0.5em;\n",
              "  box-sizing: border-box;\n",
              "  text-align: center;\n",
              "}\n",
              "\n",
              "#sk-container-id-1 label.sk-toggleable__label-arrow:before {\n",
              "  /* Arrow on the left of the label */\n",
              "  content: \"▸\";\n",
              "  float: left;\n",
              "  margin-right: 0.25em;\n",
              "  color: var(--sklearn-color-icon);\n",
              "}\n",
              "\n",
              "#sk-container-id-1 label.sk-toggleable__label-arrow:hover:before {\n",
              "  color: var(--sklearn-color-text);\n",
              "}\n",
              "\n",
              "/* Toggleable content - dropdown */\n",
              "\n",
              "#sk-container-id-1 div.sk-toggleable__content {\n",
              "  max-height: 0;\n",
              "  max-width: 0;\n",
              "  overflow: hidden;\n",
              "  text-align: left;\n",
              "  /* unfitted */\n",
              "  background-color: var(--sklearn-color-unfitted-level-0);\n",
              "}\n",
              "\n",
              "#sk-container-id-1 div.sk-toggleable__content.fitted {\n",
              "  /* fitted */\n",
              "  background-color: var(--sklearn-color-fitted-level-0);\n",
              "}\n",
              "\n",
              "#sk-container-id-1 div.sk-toggleable__content pre {\n",
              "  margin: 0.2em;\n",
              "  border-radius: 0.25em;\n",
              "  color: var(--sklearn-color-text);\n",
              "  /* unfitted */\n",
              "  background-color: var(--sklearn-color-unfitted-level-0);\n",
              "}\n",
              "\n",
              "#sk-container-id-1 div.sk-toggleable__content.fitted pre {\n",
              "  /* unfitted */\n",
              "  background-color: var(--sklearn-color-fitted-level-0);\n",
              "}\n",
              "\n",
              "#sk-container-id-1 input.sk-toggleable__control:checked~div.sk-toggleable__content {\n",
              "  /* Expand drop-down */\n",
              "  max-height: 200px;\n",
              "  max-width: 100%;\n",
              "  overflow: auto;\n",
              "}\n",
              "\n",
              "#sk-container-id-1 input.sk-toggleable__control:checked~label.sk-toggleable__label-arrow:before {\n",
              "  content: \"▾\";\n",
              "}\n",
              "\n",
              "/* Pipeline/ColumnTransformer-specific style */\n",
              "\n",
              "#sk-container-id-1 div.sk-label input.sk-toggleable__control:checked~label.sk-toggleable__label {\n",
              "  color: var(--sklearn-color-text);\n",
              "  background-color: var(--sklearn-color-unfitted-level-2);\n",
              "}\n",
              "\n",
              "#sk-container-id-1 div.sk-label.fitted input.sk-toggleable__control:checked~label.sk-toggleable__label {\n",
              "  background-color: var(--sklearn-color-fitted-level-2);\n",
              "}\n",
              "\n",
              "/* Estimator-specific style */\n",
              "\n",
              "/* Colorize estimator box */\n",
              "#sk-container-id-1 div.sk-estimator input.sk-toggleable__control:checked~label.sk-toggleable__label {\n",
              "  /* unfitted */\n",
              "  background-color: var(--sklearn-color-unfitted-level-2);\n",
              "}\n",
              "\n",
              "#sk-container-id-1 div.sk-estimator.fitted input.sk-toggleable__control:checked~label.sk-toggleable__label {\n",
              "  /* fitted */\n",
              "  background-color: var(--sklearn-color-fitted-level-2);\n",
              "}\n",
              "\n",
              "#sk-container-id-1 div.sk-label label.sk-toggleable__label,\n",
              "#sk-container-id-1 div.sk-label label {\n",
              "  /* The background is the default theme color */\n",
              "  color: var(--sklearn-color-text-on-default-background);\n",
              "}\n",
              "\n",
              "/* On hover, darken the color of the background */\n",
              "#sk-container-id-1 div.sk-label:hover label.sk-toggleable__label {\n",
              "  color: var(--sklearn-color-text);\n",
              "  background-color: var(--sklearn-color-unfitted-level-2);\n",
              "}\n",
              "\n",
              "/* Label box, darken color on hover, fitted */\n",
              "#sk-container-id-1 div.sk-label.fitted:hover label.sk-toggleable__label.fitted {\n",
              "  color: var(--sklearn-color-text);\n",
              "  background-color: var(--sklearn-color-fitted-level-2);\n",
              "}\n",
              "\n",
              "/* Estimator label */\n",
              "\n",
              "#sk-container-id-1 div.sk-label label {\n",
              "  font-family: monospace;\n",
              "  font-weight: bold;\n",
              "  display: inline-block;\n",
              "  line-height: 1.2em;\n",
              "}\n",
              "\n",
              "#sk-container-id-1 div.sk-label-container {\n",
              "  text-align: center;\n",
              "}\n",
              "\n",
              "/* Estimator-specific */\n",
              "#sk-container-id-1 div.sk-estimator {\n",
              "  font-family: monospace;\n",
              "  border: 1px dotted var(--sklearn-color-border-box);\n",
              "  border-radius: 0.25em;\n",
              "  box-sizing: border-box;\n",
              "  margin-bottom: 0.5em;\n",
              "  /* unfitted */\n",
              "  background-color: var(--sklearn-color-unfitted-level-0);\n",
              "}\n",
              "\n",
              "#sk-container-id-1 div.sk-estimator.fitted {\n",
              "  /* fitted */\n",
              "  background-color: var(--sklearn-color-fitted-level-0);\n",
              "}\n",
              "\n",
              "/* on hover */\n",
              "#sk-container-id-1 div.sk-estimator:hover {\n",
              "  /* unfitted */\n",
              "  background-color: var(--sklearn-color-unfitted-level-2);\n",
              "}\n",
              "\n",
              "#sk-container-id-1 div.sk-estimator.fitted:hover {\n",
              "  /* fitted */\n",
              "  background-color: var(--sklearn-color-fitted-level-2);\n",
              "}\n",
              "\n",
              "/* Specification for estimator info (e.g. \"i\" and \"?\") */\n",
              "\n",
              "/* Common style for \"i\" and \"?\" */\n",
              "\n",
              ".sk-estimator-doc-link,\n",
              "a:link.sk-estimator-doc-link,\n",
              "a:visited.sk-estimator-doc-link {\n",
              "  float: right;\n",
              "  font-size: smaller;\n",
              "  line-height: 1em;\n",
              "  font-family: monospace;\n",
              "  background-color: var(--sklearn-color-background);\n",
              "  border-radius: 1em;\n",
              "  height: 1em;\n",
              "  width: 1em;\n",
              "  text-decoration: none !important;\n",
              "  margin-left: 1ex;\n",
              "  /* unfitted */\n",
              "  border: var(--sklearn-color-unfitted-level-1) 1pt solid;\n",
              "  color: var(--sklearn-color-unfitted-level-1);\n",
              "}\n",
              "\n",
              ".sk-estimator-doc-link.fitted,\n",
              "a:link.sk-estimator-doc-link.fitted,\n",
              "a:visited.sk-estimator-doc-link.fitted {\n",
              "  /* fitted */\n",
              "  border: var(--sklearn-color-fitted-level-1) 1pt solid;\n",
              "  color: var(--sklearn-color-fitted-level-1);\n",
              "}\n",
              "\n",
              "/* On hover */\n",
              "div.sk-estimator:hover .sk-estimator-doc-link:hover,\n",
              ".sk-estimator-doc-link:hover,\n",
              "div.sk-label-container:hover .sk-estimator-doc-link:hover,\n",
              ".sk-estimator-doc-link:hover {\n",
              "  /* unfitted */\n",
              "  background-color: var(--sklearn-color-unfitted-level-3);\n",
              "  color: var(--sklearn-color-background);\n",
              "  text-decoration: none;\n",
              "}\n",
              "\n",
              "div.sk-estimator.fitted:hover .sk-estimator-doc-link.fitted:hover,\n",
              ".sk-estimator-doc-link.fitted:hover,\n",
              "div.sk-label-container:hover .sk-estimator-doc-link.fitted:hover,\n",
              ".sk-estimator-doc-link.fitted:hover {\n",
              "  /* fitted */\n",
              "  background-color: var(--sklearn-color-fitted-level-3);\n",
              "  color: var(--sklearn-color-background);\n",
              "  text-decoration: none;\n",
              "}\n",
              "\n",
              "/* Span, style for the box shown on hovering the info icon */\n",
              ".sk-estimator-doc-link span {\n",
              "  display: none;\n",
              "  z-index: 9999;\n",
              "  position: relative;\n",
              "  font-weight: normal;\n",
              "  right: .2ex;\n",
              "  padding: .5ex;\n",
              "  margin: .5ex;\n",
              "  width: min-content;\n",
              "  min-width: 20ex;\n",
              "  max-width: 50ex;\n",
              "  color: var(--sklearn-color-text);\n",
              "  box-shadow: 2pt 2pt 4pt #999;\n",
              "  /* unfitted */\n",
              "  background: var(--sklearn-color-unfitted-level-0);\n",
              "  border: .5pt solid var(--sklearn-color-unfitted-level-3);\n",
              "}\n",
              "\n",
              ".sk-estimator-doc-link.fitted span {\n",
              "  /* fitted */\n",
              "  background: var(--sklearn-color-fitted-level-0);\n",
              "  border: var(--sklearn-color-fitted-level-3);\n",
              "}\n",
              "\n",
              ".sk-estimator-doc-link:hover span {\n",
              "  display: block;\n",
              "}\n",
              "\n",
              "/* \"?\"-specific style due to the `<a>` HTML tag */\n",
              "\n",
              "#sk-container-id-1 a.estimator_doc_link {\n",
              "  float: right;\n",
              "  font-size: 1rem;\n",
              "  line-height: 1em;\n",
              "  font-family: monospace;\n",
              "  background-color: var(--sklearn-color-background);\n",
              "  border-radius: 1rem;\n",
              "  height: 1rem;\n",
              "  width: 1rem;\n",
              "  text-decoration: none;\n",
              "  /* unfitted */\n",
              "  color: var(--sklearn-color-unfitted-level-1);\n",
              "  border: var(--sklearn-color-unfitted-level-1) 1pt solid;\n",
              "}\n",
              "\n",
              "#sk-container-id-1 a.estimator_doc_link.fitted {\n",
              "  /* fitted */\n",
              "  border: var(--sklearn-color-fitted-level-1) 1pt solid;\n",
              "  color: var(--sklearn-color-fitted-level-1);\n",
              "}\n",
              "\n",
              "/* On hover */\n",
              "#sk-container-id-1 a.estimator_doc_link:hover {\n",
              "  /* unfitted */\n",
              "  background-color: var(--sklearn-color-unfitted-level-3);\n",
              "  color: var(--sklearn-color-background);\n",
              "  text-decoration: none;\n",
              "}\n",
              "\n",
              "#sk-container-id-1 a.estimator_doc_link.fitted:hover {\n",
              "  /* fitted */\n",
              "  background-color: var(--sklearn-color-fitted-level-3);\n",
              "}\n",
              "</style><div id=\"sk-container-id-1\" class=\"sk-top-container\"><div class=\"sk-text-repr-fallback\"><pre>GridSearchCV(estimator=SVC(),\n",
              "             param_grid={&#x27;C&#x27;: [2e-15, 2e-14, 2e-13, 2e-12, 2e-11, 2e-10, 2e-09,\n",
              "                               2e-08, 2e-07, 2e-06, 2e-05, 0.0002, 0.002, 0.02,\n",
              "                               0.2, 2, 20, 200, 2000, 20000, 200000, 2000000,\n",
              "                               20000000, 200000000, 2000000000],\n",
              "                         &#x27;kernel&#x27;: [&#x27;linear&#x27;]},\n",
              "             return_train_score=True)</pre><b>In a Jupyter environment, please rerun this cell to show the HTML representation or trust the notebook. <br />On GitHub, the HTML representation is unable to render, please try loading this page with nbviewer.org.</b></div><div class=\"sk-container\" hidden><div class=\"sk-item sk-dashed-wrapped\"><div class=\"sk-label-container\"><div class=\"sk-label fitted sk-toggleable\"><input class=\"sk-toggleable__control sk-hidden--visually\" id=\"sk-estimator-id-1\" type=\"checkbox\" ><label for=\"sk-estimator-id-1\" class=\"sk-toggleable__label fitted sk-toggleable__label-arrow fitted\">&nbsp;&nbsp;GridSearchCV<a class=\"sk-estimator-doc-link fitted\" rel=\"noreferrer\" target=\"_blank\" href=\"https://scikit-learn.org/1.4/modules/generated/sklearn.model_selection.GridSearchCV.html\">?<span>Documentation for GridSearchCV</span></a><span class=\"sk-estimator-doc-link fitted\">i<span>Fitted</span></span></label><div class=\"sk-toggleable__content fitted\"><pre>GridSearchCV(estimator=SVC(),\n",
              "             param_grid={&#x27;C&#x27;: [2e-15, 2e-14, 2e-13, 2e-12, 2e-11, 2e-10, 2e-09,\n",
              "                               2e-08, 2e-07, 2e-06, 2e-05, 0.0002, 0.002, 0.02,\n",
              "                               0.2, 2, 20, 200, 2000, 20000, 200000, 2000000,\n",
              "                               20000000, 200000000, 2000000000],\n",
              "                         &#x27;kernel&#x27;: [&#x27;linear&#x27;]},\n",
              "             return_train_score=True)</pre></div> </div></div><div class=\"sk-parallel\"><div class=\"sk-parallel-item\"><div class=\"sk-item\"><div class=\"sk-label-container\"><div class=\"sk-label fitted sk-toggleable\"><input class=\"sk-toggleable__control sk-hidden--visually\" id=\"sk-estimator-id-2\" type=\"checkbox\" ><label for=\"sk-estimator-id-2\" class=\"sk-toggleable__label fitted sk-toggleable__label-arrow fitted\">estimator: SVC</label><div class=\"sk-toggleable__content fitted\"><pre>SVC()</pre></div> </div></div><div class=\"sk-serial\"><div class=\"sk-item\"><div class=\"sk-estimator fitted sk-toggleable\"><input class=\"sk-toggleable__control sk-hidden--visually\" id=\"sk-estimator-id-3\" type=\"checkbox\" ><label for=\"sk-estimator-id-3\" class=\"sk-toggleable__label fitted sk-toggleable__label-arrow fitted\">&nbsp;SVC<a class=\"sk-estimator-doc-link fitted\" rel=\"noreferrer\" target=\"_blank\" href=\"https://scikit-learn.org/1.4/modules/generated/sklearn.svm.SVC.html\">?<span>Documentation for SVC</span></a></label><div class=\"sk-toggleable__content fitted\"><pre>SVC()</pre></div> </div></div></div></div></div></div></div></div></div>"
            ]
          },
          "execution_count": 24,
          "metadata": {},
          "output_type": "execute_result"
        }
      ],
      "execution_count": null
    },
    {
      "metadata": {
        "id": "iCiuzxSOW_xy"
      },
      "cell_type": "markdown",
      "source": [
        "All of the results obtained in the grid search with cross validation are shown below"
      ]
    },
    {
      "cell_type": "code",
      "source": [
        "clf.cv_results_"
      ],
      "metadata": {
        "id": "VBJSuKtyI1A8",
        "colab": {
          "base_uri": "https://localhost:8080/"
        },
        "outputId": "7e2f3043-d209-474d-d174-a9b17ef37af8",
        "ExecuteTime": {
          "end_time": "2024-05-02T06:16:58.304030Z",
          "start_time": "2024-05-02T06:16:58.276849Z"
        }
      },
      "outputs": [
        {
          "data": {
            "text/plain": [
              "{'mean_fit_time': array([28.97628732, 29.15206709, 30.995999  , 30.9425179 , 30.54514179,\n",
              "        30.52254415, 31.31037121, 31.09852724, 32.03824577, 26.64950585,\n",
              "         8.35636539,  2.74168787,  1.29639587,  0.93342004,  0.85475078,\n",
              "         0.87904868,  0.87142572,  0.85093565,  0.8800715 ,  0.88890743,\n",
              "         0.84807868,  0.90279756,  0.92152333,  0.90789127,  0.81577134]),\n",
              " 'std_fit_time': array([1.37643905, 1.26304107, 0.5236948 , 0.68222967, 0.73335602,\n",
              "        0.84550364, 0.63740315, 0.9572037 , 1.26379674, 0.53755487,\n",
              "        0.13855427, 0.11637301, 0.10201344, 0.04378441, 0.07567088,\n",
              "        0.06530389, 0.05319378, 0.0173934 , 0.03399772, 0.04709661,\n",
              "        0.07821185, 0.05692551, 0.09085133, 0.04969029, 0.04198835]),\n",
              " 'mean_score_time': array([6.33731904, 6.13279972, 6.39727101, 6.67501488, 6.3608161 ,\n",
              "        6.6674511 , 6.70359192, 6.63352151, 7.01568451, 5.6418632 ,\n",
              "        1.95436749, 0.58980927, 0.09166517, 0.0541399 , 0.05590358,\n",
              "        0.0472867 , 0.04927249, 0.05247006, 0.0505703 , 0.04931316,\n",
              "        0.04714694, 0.05640159, 0.05331573, 0.05619822, 0.05140896]),\n",
              " 'std_score_time': array([7.68952465e-01, 3.88250183e-01, 1.60306189e-01, 4.50832455e-01,\n",
              "        2.82252454e-01, 5.28282454e-01, 2.07025788e-01, 3.09802805e-01,\n",
              "        2.74386552e-01, 1.58283016e-01, 3.04759937e-02, 4.28773819e-02,\n",
              "        1.17274029e-02, 4.00872165e-03, 2.07394758e-02, 3.30046669e-04,\n",
              "        1.06253424e-02, 5.63833816e-03, 6.29961161e-03, 4.96418365e-03,\n",
              "        2.74406559e-03, 4.21964380e-03, 2.73039677e-03, 6.91230424e-03,\n",
              "        5.85668891e-03]),\n",
              " 'param_C': masked_array(data=[2e-15, 2e-14, 2e-13, 2e-12, 2e-11, 2e-10, 2e-09, 2e-08,\n",
              "                    2e-07, 2e-06, 2e-05, 0.0002, 0.002, 0.02, 0.2, 2, 20,\n",
              "                    200, 2000, 20000, 200000, 2000000, 20000000, 200000000,\n",
              "                    2000000000],\n",
              "              mask=[False, False, False, False, False, False, False, False,\n",
              "                    False, False, False, False, False, False, False, False,\n",
              "                    False, False, False, False, False, False, False, False,\n",
              "                    False],\n",
              "        fill_value='?',\n",
              "             dtype=object),\n",
              " 'param_kernel': masked_array(data=['linear', 'linear', 'linear', 'linear', 'linear',\n",
              "                    'linear', 'linear', 'linear', 'linear', 'linear',\n",
              "                    'linear', 'linear', 'linear', 'linear', 'linear',\n",
              "                    'linear', 'linear', 'linear', 'linear', 'linear',\n",
              "                    'linear', 'linear', 'linear', 'linear', 'linear'],\n",
              "              mask=[False, False, False, False, False, False, False, False,\n",
              "                    False, False, False, False, False, False, False, False,\n",
              "                    False, False, False, False, False, False, False, False,\n",
              "                    False],\n",
              "        fill_value='?',\n",
              "             dtype=object),\n",
              " 'params': [{'C': 2e-15, 'kernel': 'linear'},\n",
              "  {'C': 2e-14, 'kernel': 'linear'},\n",
              "  {'C': 2e-13, 'kernel': 'linear'},\n",
              "  {'C': 2e-12, 'kernel': 'linear'},\n",
              "  {'C': 2e-11, 'kernel': 'linear'},\n",
              "  {'C': 2e-10, 'kernel': 'linear'},\n",
              "  {'C': 2e-09, 'kernel': 'linear'},\n",
              "  {'C': 2e-08, 'kernel': 'linear'},\n",
              "  {'C': 2e-07, 'kernel': 'linear'},\n",
              "  {'C': 2e-06, 'kernel': 'linear'},\n",
              "  {'C': 2e-05, 'kernel': 'linear'},\n",
              "  {'C': 0.0002, 'kernel': 'linear'},\n",
              "  {'C': 0.002, 'kernel': 'linear'},\n",
              "  {'C': 0.02, 'kernel': 'linear'},\n",
              "  {'C': 0.2, 'kernel': 'linear'},\n",
              "  {'C': 2, 'kernel': 'linear'},\n",
              "  {'C': 20, 'kernel': 'linear'},\n",
              "  {'C': 200, 'kernel': 'linear'},\n",
              "  {'C': 2000, 'kernel': 'linear'},\n",
              "  {'C': 20000, 'kernel': 'linear'},\n",
              "  {'C': 200000, 'kernel': 'linear'},\n",
              "  {'C': 2000000, 'kernel': 'linear'},\n",
              "  {'C': 20000000, 'kernel': 'linear'},\n",
              "  {'C': 200000000, 'kernel': 'linear'},\n",
              "  {'C': 2000000000, 'kernel': 'linear'}],\n",
              " 'split0_test_score': array([0.50868597, 0.50868597, 0.50868597, 0.50868597, 0.50868597,\n",
              "        0.50868597, 0.50868597, 0.50868597, 0.50868597, 0.9830735 ,\n",
              "        0.99153675, 0.99331849, 0.99599109, 0.99599109, 0.99599109,\n",
              "        0.99599109, 0.99599109, 0.99599109, 0.99599109, 0.99599109,\n",
              "        0.99599109, 0.99599109, 0.99599109, 0.99599109, 0.99599109]),\n",
              " 'split1_test_score': array([0.50868597, 0.50868597, 0.50868597, 0.50868597, 0.50868597,\n",
              "        0.50868597, 0.50868597, 0.50868597, 0.50868597, 0.98351893,\n",
              "        0.98708241, 0.99109131, 0.99376392, 0.99287305, 0.99153675,\n",
              "        0.99153675, 0.99153675, 0.99153675, 0.99153675, 0.99153675,\n",
              "        0.99153675, 0.99153675, 0.99153675, 0.99153675, 0.99153675]),\n",
              " 'split2_test_score': array([0.50868597, 0.50868597, 0.50868597, 0.50868597, 0.50868597,\n",
              "        0.50868597, 0.50868597, 0.50868597, 0.50868597, 0.98218263,\n",
              "        0.99064588, 0.99510022, 0.99732739, 0.99732739, 0.99688196,\n",
              "        0.99688196, 0.99688196, 0.99688196, 0.99688196, 0.99688196,\n",
              "        0.99688196, 0.99688196, 0.99688196, 0.99688196, 0.99688196]),\n",
              " 'split3_test_score': array([0.50891266, 0.50891266, 0.50891266, 0.50891266, 0.50891266,\n",
              "        0.50891266, 0.50891266, 0.50891266, 0.50891266, 0.98172906,\n",
              "        0.99108734, 0.99554367, 0.99688057, 0.9973262 , 0.99643494,\n",
              "        0.99643494, 0.99643494, 0.99643494, 0.99643494, 0.99643494,\n",
              "        0.99643494, 0.99643494, 0.99643494, 0.99643494, 0.99643494]),\n",
              " 'split4_test_score': array([0.50891266, 0.50891266, 0.50891266, 0.50891266, 0.50891266,\n",
              "        0.50891266, 0.50891266, 0.50891266, 0.50891266, 0.98618538,\n",
              "        0.99064171, 0.99420677, 0.99643494, 0.99643494, 0.99420677,\n",
              "        0.99420677, 0.99420677, 0.99420677, 0.99420677, 0.99420677,\n",
              "        0.99420677, 0.99420677, 0.99420677, 0.99420677, 0.99420677]),\n",
              " 'mean_test_score': array([0.50877664, 0.50877664, 0.50877664, 0.50877664, 0.50877664,\n",
              "        0.50877664, 0.50877664, 0.50877664, 0.50877664, 0.9833379 ,\n",
              "        0.99019882, 0.99385209, 0.99607958, 0.99599054, 0.9950103 ,\n",
              "        0.9950103 , 0.9950103 , 0.9950103 , 0.9950103 , 0.9950103 ,\n",
              "        0.9950103 , 0.9950103 , 0.9950103 , 0.9950103 , 0.9950103 ]),\n",
              " 'std_test_score': array([0.00011105, 0.00011105, 0.00011105, 0.00011105, 0.00011105,\n",
              "        0.00011105, 0.00011105, 0.00011105, 0.00011105, 0.00155781,\n",
              "        0.00159296, 0.00157808, 0.00124057, 0.0016424 , 0.00195989,\n",
              "        0.00195989, 0.00195989, 0.00195989, 0.00195989, 0.00195989,\n",
              "        0.00195989, 0.00195989, 0.00195989, 0.00195989, 0.00195989]),\n",
              " 'rank_test_score': array([17, 17, 17, 17, 17, 17, 17, 17, 17, 16, 15, 14,  1,  2,  3,  3,  3,\n",
              "         3,  3,  3,  3,  3,  3,  3,  3]),\n",
              " 'split0_train_score': array([0.50879929, 0.50879929, 0.50879929, 0.50879929, 0.50879929,\n",
              "        0.50879929, 0.50879929, 0.50879929, 0.50879929, 0.98362664,\n",
              "        0.99030965, 0.99543328, 0.99821787, 0.99966585, 1.        ,\n",
              "        1.        , 1.        , 1.        , 1.        , 1.        ,\n",
              "        1.        , 1.        , 1.        , 1.        , 1.        ]),\n",
              " 'split1_train_score': array([0.50879929, 0.50879929, 0.50879929, 0.50879929, 0.50879929,\n",
              "        0.50879929, 0.50879929, 0.50879929, 0.50879929, 0.98340388,\n",
              "        0.99175763, 0.99610158, 0.9986634 , 0.99977723, 1.        ,\n",
              "        1.        , 1.        , 1.        , 1.        , 1.        ,\n",
              "        1.        , 1.        , 1.        , 1.        , 1.        ]),\n",
              " 'split2_train_score': array([0.50879929, 0.50879929, 0.50879929, 0.50879929, 0.50879929,\n",
              "        0.50879929, 0.50879929, 0.50879929, 0.50879929, 0.98362664,\n",
              "        0.99053241, 0.99554466, 0.99788372, 0.99966585, 1.        ,\n",
              "        1.        , 1.        , 1.        , 1.        , 1.        ,\n",
              "        1.        , 1.        , 1.        , 1.        , 1.        ]),\n",
              " 'split3_train_score': array([0.50874262, 0.50874262, 0.50874262, 0.50874262, 0.50874262,\n",
              "        0.50874262, 0.50874262, 0.50874262, 0.50874262, 0.98385121,\n",
              "        0.98997661, 0.99521105, 0.99810669, 0.99966589, 1.        ,\n",
              "        1.        , 1.        , 1.        , 1.        , 1.        ,\n",
              "        1.        , 1.        , 1.        , 1.        , 1.        ]),\n",
              " 'split4_train_score': array([0.50874262, 0.50874262, 0.50874262, 0.50874262, 0.50874262,\n",
              "        0.50874262, 0.50874262, 0.50874262, 0.50874262, 0.98284887,\n",
              "        0.99086758, 0.99532242, 0.99799532, 0.99977726, 1.        ,\n",
              "        1.        , 1.        , 1.        , 1.        , 1.        ,\n",
              "        1.        , 1.        , 1.        , 1.        , 1.        ]),\n",
              " 'mean_train_score': array([0.50877662, 0.50877662, 0.50877662, 0.50877662, 0.50877662,\n",
              "        0.50877662, 0.50877662, 0.50877662, 0.50877662, 0.98347145,\n",
              "        0.99068878, 0.9955226 , 0.9981734 , 0.99971042, 1.        ,\n",
              "        1.        , 1.        , 1.        , 1.        , 1.        ,\n",
              "        1.        , 1.        , 1.        , 1.        , 1.        ]),\n",
              " 'std_train_score': array([2.77602993e-05, 2.77602993e-05, 2.77602993e-05, 2.77602993e-05,\n",
              "        2.77602993e-05, 2.77602993e-05, 2.77602993e-05, 2.77602993e-05,\n",
              "        2.77602993e-05, 3.41923588e-04, 6.08241048e-04, 3.10103695e-04,\n",
              "        2.69130083e-04, 5.45664924e-05, 0.00000000e+00, 0.00000000e+00,\n",
              "        0.00000000e+00, 0.00000000e+00, 0.00000000e+00, 0.00000000e+00,\n",
              "        0.00000000e+00, 0.00000000e+00, 0.00000000e+00, 0.00000000e+00,\n",
              "        0.00000000e+00])}"
            ]
          },
          "execution_count": 25,
          "metadata": {},
          "output_type": "execute_result"
        }
      ],
      "execution_count": null
    },
    {
      "cell_type": "code",
      "source": [
        "best_model = clf.best_estimator_"
      ],
      "metadata": {
        "id": "56i3e0FYdPrm",
        "ExecuteTime": {
          "end_time": "2024-05-02T06:16:58.316248Z",
          "start_time": "2024-05-02T06:16:58.305701Z"
        }
      },
      "outputs": [],
      "execution_count": null
    },
    {
      "cell_type": "code",
      "source": [
        "plt.plot([2*(10**(i)) for i in range(-15, 10)], 1-clf.cv_results_[\"mean_test_score\"], label=\"test_error\")\n",
        "plt.plot([2*(10**(i)) for i in range(-15, 10)], 1-clf.cv_results_[\"mean_train_score\"], label=\"train_error\")\n",
        "plt.xlabel(\"C\")\n",
        "plt.ylabel(\"Error\")\n",
        "plt.legend()\n",
        "plt.show()"
      ],
      "metadata": {
        "id": "yYbSUHZxjhgS",
        "colab": {
          "base_uri": "https://localhost:8080/",
          "height": 458
        },
        "outputId": "c7c18e3f-ee11-49ba-c060-224f6c4c3d92",
        "ExecuteTime": {
          "end_time": "2024-05-02T06:16:58.606442Z",
          "start_time": "2024-05-02T06:16:58.316248Z"
        }
      },
      "outputs": [
        {
          "data": {
            "text/plain": [
              "<Figure size 640x480 with 1 Axes>"
            ],
            "image/png": "[encoded data removed]"
          },
          "metadata": {},
          "output_type": "display_data"
        }
      ],
      "execution_count": null
    },
    {
      "metadata": {
        "id": "WSQAve8lW_xz"
      },
      "cell_type": "markdown",
      "source": [
        "Accuracy score of the best estimator over the test dataset"
      ]
    },
    {
      "cell_type": "code",
      "source": [
        "y_pred = best_model.predict(new_X_test)\n",
        "accuracy_score(new_y_test, y_pred)"
      ],
      "metadata": {
        "colab": {
          "base_uri": "https://localhost:8080/"
        },
        "id": "Js1E-F33sjQz",
        "outputId": "fa9cc6b3-40d7-4650-da65-4df0e921e69f",
        "ExecuteTime": {
          "end_time": "2024-05-02T06:16:58.746546Z",
          "start_time": "2024-05-02T06:16:58.608009Z"
        }
      },
      "outputs": [
        {
          "data": {
            "text/plain": [
              "0.9971367215461704"
            ]
          },
          "execution_count": 28,
          "metadata": {},
          "output_type": "execute_result"
        }
      ],
      "execution_count": null
    },
    {
      "metadata": {
        "id": "TFOwyLWCW_xz"
      },
      "cell_type": "markdown",
      "source": [
        "Model weights extraction"
      ]
    },
    {
      "cell_type": "code",
      "source": [
        "weights = best_model.coef_"
      ],
      "metadata": {
        "id": "WRxYuI0KlYYA",
        "ExecuteTime": {
          "end_time": "2024-05-02T06:16:58.752963Z",
          "start_time": "2024-05-02T06:16:58.746546Z"
        }
      },
      "outputs": [],
      "execution_count": null
    },
    {
      "cell_type": "code",
      "source": [
        "plt.pcolor(weights.reshape(28, 28));\n",
        "plt.xticks([]);\n",
        "plt.yticks([]);"
      ],
      "metadata": {
        "colab": {
          "base_uri": "https://localhost:8080/",
          "height": 406
        },
        "id": "EWVmjf7sr1E5",
        "outputId": "71a0bd98-b972-4b1f-eedf-3f7a019454cc",
        "ExecuteTime": {
          "end_time": "2024-05-02T06:16:58.820698Z",
          "start_time": "2024-05-02T06:16:58.752963Z"
        }
      },
      "outputs": [
        {
          "data": {
            "text/plain": [
              "<Figure size 640x480 with 1 Axes>"
            ],
            "image/png": "[encoded data removed]"
          },
          "metadata": {},
          "output_type": "display_data"
        }
      ],
      "execution_count": null
    },
    {
      "cell_type": "code",
      "source": [
        "plt.pcolor(weights.reshape(28, 28), edgecolors='k', cmap=\"seismic\");\n",
        "plt.xticks([]);\n",
        "plt.yticks([]);"
      ],
      "metadata": {
        "colab": {
          "base_uri": "https://localhost:8080/",
          "height": 406
        },
        "id": "mwMVXB5UqcDf",
        "outputId": "f338ea67-b6f1-47fd-abce-a5f3a32959a0",
        "ExecuteTime": {
          "end_time": "2024-05-02T06:16:58.889356Z",
          "start_time": "2024-05-02T06:16:58.820698Z"
        }
      },
      "outputs": [
        {
          "data": {
            "text/plain": [
              "<Figure size 640x480 with 1 Axes>"
            ],
            "image/png": "[encoded data removed]"
          },
          "metadata": {},
          "output_type": "display_data"
        }
      ],
      "execution_count": null
    },
    {
      "metadata": {
        "id": "WLqOIxB6W_xz"
      },
      "cell_type": "markdown",
      "source": [
        "The obtained weights correspond to a 784-element array, one element for each pixel in the images. Reshaping this array into a 28x28 matrix could provide insight into how the classifier assigns weights to individual pixels for each image.\n",
        "\n",
        "The visualized representation of the matrix shown above aligns with our expectations. Pixels representing key features for distinguishing a \"3\" from a \"6\" show high intensity. Specifically, the intensity is high in areas corresponding to the left \"arms\" of a \"3\" and the pixels of a three that could indeed fill the empty circle of a number 6 which is one of the main features that make the 6 distinguishable from the 3"
      ]
    },
    {
      "metadata": {
        "id": "YZja-fNVW_xz"
      },
      "cell_type": "markdown",
      "source": [
        "Now lets try the same experiment with another digits, in this case, building a classifier to distinguish between number \"0\" and number \"1\""
      ]
    },
    {
      "cell_type": "code",
      "source": [
        "digit1 = 0\n",
        "digit2 = 1"
      ],
      "metadata": {
        "id": "8F287TI1x4AD",
        "ExecuteTime": {
          "end_time": "2024-05-02T06:16:58.896585Z",
          "start_time": "2024-05-02T06:16:58.889356Z"
        }
      },
      "outputs": [],
      "execution_count": null
    },
    {
      "cell_type": "code",
      "source": [
        "new_X_train, new_y_train, new_X_test, new_y_test = get_two_digits(X_train, X_test, y_train, y_test, digit1, digit2)\n",
        "new_X_train.shape"
      ],
      "metadata": {
        "colab": {
          "base_uri": "https://localhost:8080/"
        },
        "id": "R5mrwAoLxCZO",
        "outputId": "86857554-4c3f-4d73-cbc1-8b209b846224",
        "ExecuteTime": {
          "end_time": "2024-05-02T06:16:59.010157Z",
          "start_time": "2024-05-02T06:16:58.896585Z"
        }
      },
      "outputs": [
        {
          "data": {
            "text/plain": [
              "(11809, 784)"
            ]
          },
          "execution_count": 33,
          "metadata": {},
          "output_type": "execute_result"
        }
      ],
      "execution_count": null
    },
    {
      "cell_type": "code",
      "source": [
        "support_machine = SVC()\n",
        "clf = GridSearchCV(support_machine, {\"kernel\":[ \"linear\"],\n",
        "                                     \"C\": [5*(10**(i)) for i in range(-5, 5)]},\n",
        "                   return_train_score=True, refit=True)"
      ],
      "metadata": {
        "id": "uvXF6koQyOT7",
        "ExecuteTime": {
          "end_time": "2024-05-02T06:16:59.017376Z",
          "start_time": "2024-05-02T06:16:59.010157Z"
        }
      },
      "outputs": [],
      "execution_count": null
    },
    {
      "cell_type": "code",
      "source": [
        "clf.fit(new_X_train, new_y_train)"
      ],
      "metadata": {
        "colab": {
          "base_uri": "https://localhost:8080/",
          "height": 116
        },
        "id": "pV2PWnS9yVe7",
        "outputId": "0238c151-e552-4dc7-f50a-c27c7b78c48b",
        "ExecuteTime": {
          "end_time": "2024-05-02T06:17:53.396714Z",
          "start_time": "2024-05-02T06:16:59.017376Z"
        }
      },
      "outputs": [
        {
          "data": {
            "text/plain": [
              "GridSearchCV(estimator=SVC(),\n",
              "             param_grid={'C': [5e-05, 0.0005, 0.005, 0.05, 0.5, 5, 50, 500,\n",
              "                               5000, 50000],\n",
              "                         'kernel': ['linear']},\n",
              "             return_train_score=True)"
            ],
            "text/html": [
              "<style>#sk-container-id-2 {\n",
              "  /* Definition of color scheme common for light and dark mode */\n",
              "  --sklearn-color-text: black;\n",
              "  --sklearn-color-line: gray;\n",
              "  /* Definition of color scheme for unfitted estimators */\n",
              "  --sklearn-color-unfitted-level-0: #fff5e6;\n",
              "  --sklearn-color-unfitted-level-1: #f6e4d2;\n",
              "  --sklearn-color-unfitted-level-2: #ffe0b3;\n",
              "  --sklearn-color-unfitted-level-3: chocolate;\n",
              "  /* Definition of color scheme for fitted estimators */\n",
              "  --sklearn-color-fitted-level-0: #f0f8ff;\n",
              "  --sklearn-color-fitted-level-1: #d4ebff;\n",
              "  --sklearn-color-fitted-level-2: #b3dbfd;\n",
              "  --sklearn-color-fitted-level-3: cornflowerblue;\n",
              "\n",
              "  /* Specific color for light theme */\n",
              "  --sklearn-color-text-on-default-background: var(--sg-text-color, var(--theme-code-foreground, var(--jp-content-font-color1, black)));\n",
              "  --sklearn-color-background: var(--sg-background-color, var(--theme-background, var(--jp-layout-color0, white)));\n",
              "  --sklearn-color-border-box: var(--sg-text-color, var(--theme-code-foreground, var(--jp-content-font-color1, black)));\n",
              "  --sklearn-color-icon: #696969;\n",
              "\n",
              "  @media (prefers-color-scheme: dark) {\n",
              "    /* Redefinition of color scheme for dark theme */\n",
              "    --sklearn-color-text-on-default-background: var(--sg-text-color, var(--theme-code-foreground, var(--jp-content-font-color1, white)));\n",
              "    --sklearn-color-background: var(--sg-background-color, var(--theme-background, var(--jp-layout-color0, #111)));\n",
              "    --sklearn-color-border-box: var(--sg-text-color, var(--theme-code-foreground, var(--jp-content-font-color1, white)));\n",
              "    --sklearn-color-icon: #878787;\n",
              "  }\n",
              "}\n",
              "\n",
              "#sk-container-id-2 {\n",
              "  color: var(--sklearn-color-text);\n",
              "}\n",
              "\n",
              "#sk-container-id-2 pre {\n",
              "  padding: 0;\n",
              "}\n",
              "\n",
              "#sk-container-id-2 input.sk-hidden--visually {\n",
              "  border: 0;\n",
              "  clip: rect(1px 1px 1px 1px);\n",
              "  clip: rect(1px, 1px, 1px, 1px);\n",
              "  height: 1px;\n",
              "  margin: -1px;\n",
              "  overflow: hidden;\n",
              "  padding: 0;\n",
              "  position: absolute;\n",
              "  width: 1px;\n",
              "}\n",
              "\n",
              "#sk-container-id-2 div.sk-dashed-wrapped {\n",
              "  border: 1px dashed var(--sklearn-color-line);\n",
              "  margin: 0 0.4em 0.5em 0.4em;\n",
              "  box-sizing: border-box;\n",
              "  padding-bottom: 0.4em;\n",
              "  background-color: var(--sklearn-color-background);\n",
              "}\n",
              "\n",
              "#sk-container-id-2 div.sk-container {\n",
              "  /* jupyter's `normalize.less` sets `[hidden] { display: none; }`\n",
              "     but bootstrap.min.css set `[hidden] { display: none !important; }`\n",
              "     so we also need the `!important` here to be able to override the\n",
              "     default hidden behavior on the sphinx rendered scikit-learn.org.\n",
              "     See: https://github.com/scikit-learn/scikit-learn/issues/21755 */\n",
              "  display: inline-block !important;\n",
              "  position: relative;\n",
              "}\n",
              "\n",
              "#sk-container-id-2 div.sk-text-repr-fallback {\n",
              "  display: none;\n",
              "}\n",
              "\n",
              "div.sk-parallel-item,\n",
              "div.sk-serial,\n",
              "div.sk-item {\n",
              "  /* draw centered vertical line to link estimators */\n",
              "  background-image: linear-gradient(var(--sklearn-color-text-on-default-background), var(--sklearn-color-text-on-default-background));\n",
              "  background-size: 2px 100%;\n",
              "  background-repeat: no-repeat;\n",
              "  background-position: center center;\n",
              "}\n",
              "\n",
              "/* Parallel-specific style estimator block */\n",
              "\n",
              "#sk-container-id-2 div.sk-parallel-item::after {\n",
              "  content: \"\";\n",
              "  width: 100%;\n",
              "  border-bottom: 2px solid var(--sklearn-color-text-on-default-background);\n",
              "  flex-grow: 1;\n",
              "}\n",
              "\n",
              "#sk-container-id-2 div.sk-parallel {\n",
              "  display: flex;\n",
              "  align-items: stretch;\n",
              "  justify-content: center;\n",
              "  background-color: var(--sklearn-color-background);\n",
              "  position: relative;\n",
              "}\n",
              "\n",
              "#sk-container-id-2 div.sk-parallel-item {\n",
              "  display: flex;\n",
              "  flex-direction: column;\n",
              "}\n",
              "\n",
              "#sk-container-id-2 div.sk-parallel-item:first-child::after {\n",
              "  align-self: flex-end;\n",
              "  width: 50%;\n",
              "}\n",
              "\n",
              "#sk-container-id-2 div.sk-parallel-item:last-child::after {\n",
              "  align-self: flex-start;\n",
              "  width: 50%;\n",
              "}\n",
              "\n",
              "#sk-container-id-2 div.sk-parallel-item:only-child::after {\n",
              "  width: 0;\n",
              "}\n",
              "\n",
              "/* Serial-specific style estimator block */\n",
              "\n",
              "#sk-container-id-2 div.sk-serial {\n",
              "  display: flex;\n",
              "  flex-direction: column;\n",
              "  align-items: center;\n",
              "  background-color: var(--sklearn-color-background);\n",
              "  padding-right: 1em;\n",
              "  padding-left: 1em;\n",
              "}\n",
              "\n",
              "\n",
              "/* Toggleable style: style used for estimator/Pipeline/ColumnTransformer box that is\n",
              "clickable and can be expanded/collapsed.\n",
              "- Pipeline and ColumnTransformer use this feature and define the default style\n",
              "- Estimators will overwrite some part of the style using the `sk-estimator` class\n",
              "*/\n",
              "\n",
              "/* Pipeline and ColumnTransformer style (default) */\n",
              "\n",
              "#sk-container-id-2 div.sk-toggleable {\n",
              "  /* Default theme specific background. It is overwritten whether we have a\n",
              "  specific estimator or a Pipeline/ColumnTransformer */\n",
              "  background-color: var(--sklearn-color-background);\n",
              "}\n",
              "\n",
              "/* Toggleable label */\n",
              "#sk-container-id-2 label.sk-toggleable__label {\n",
              "  cursor: pointer;\n",
              "  display: block;\n",
              "  width: 100%;\n",
              "  margin-bottom: 0;\n",
              "  padding: 0.5em;\n",
              "  box-sizing: border-box;\n",
              "  text-align: center;\n",
              "}\n",
              "\n",
              "#sk-container-id-2 label.sk-toggleable__label-arrow:before {\n",
              "  /* Arrow on the left of the label */\n",
              "  content: \"▸\";\n",
              "  float: left;\n",
              "  margin-right: 0.25em;\n",
              "  color: var(--sklearn-color-icon);\n",
              "}\n",
              "\n",
              "#sk-container-id-2 label.sk-toggleable__label-arrow:hover:before {\n",
              "  color: var(--sklearn-color-text);\n",
              "}\n",
              "\n",
              "/* Toggleable content - dropdown */\n",
              "\n",
              "#sk-container-id-2 div.sk-toggleable__content {\n",
              "  max-height: 0;\n",
              "  max-width: 0;\n",
              "  overflow: hidden;\n",
              "  text-align: left;\n",
              "  /* unfitted */\n",
              "  background-color: var(--sklearn-color-unfitted-level-0);\n",
              "}\n",
              "\n",
              "#sk-container-id-2 div.sk-toggleable__content.fitted {\n",
              "  /* fitted */\n",
              "  background-color: var(--sklearn-color-fitted-level-0);\n",
              "}\n",
              "\n",
              "#sk-container-id-2 div.sk-toggleable__content pre {\n",
              "  margin: 0.2em;\n",
              "  border-radius: 0.25em;\n",
              "  color: var(--sklearn-color-text);\n",
              "  /* unfitted */\n",
              "  background-color: var(--sklearn-color-unfitted-level-0);\n",
              "}\n",
              "\n",
              "#sk-container-id-2 div.sk-toggleable__content.fitted pre {\n",
              "  /* unfitted */\n",
              "  background-color: var(--sklearn-color-fitted-level-0);\n",
              "}\n",
              "\n",
              "#sk-container-id-2 input.sk-toggleable__control:checked~div.sk-toggleable__content {\n",
              "  /* Expand drop-down */\n",
              "  max-height: 200px;\n",
              "  max-width: 100%;\n",
              "  overflow: auto;\n",
              "}\n",
              "\n",
              "#sk-container-id-2 input.sk-toggleable__control:checked~label.sk-toggleable__label-arrow:before {\n",
              "  content: \"▾\";\n",
              "}\n",
              "\n",
              "/* Pipeline/ColumnTransformer-specific style */\n",
              "\n",
              "#sk-container-id-2 div.sk-label input.sk-toggleable__control:checked~label.sk-toggleable__label {\n",
              "  color: var(--sklearn-color-text);\n",
              "  background-color: var(--sklearn-color-unfitted-level-2);\n",
              "}\n",
              "\n",
              "#sk-container-id-2 div.sk-label.fitted input.sk-toggleable__control:checked~label.sk-toggleable__label {\n",
              "  background-color: var(--sklearn-color-fitted-level-2);\n",
              "}\n",
              "\n",
              "/* Estimator-specific style */\n",
              "\n",
              "/* Colorize estimator box */\n",
              "#sk-container-id-2 div.sk-estimator input.sk-toggleable__control:checked~label.sk-toggleable__label {\n",
              "  /* unfitted */\n",
              "  background-color: var(--sklearn-color-unfitted-level-2);\n",
              "}\n",
              "\n",
              "#sk-container-id-2 div.sk-estimator.fitted input.sk-toggleable__control:checked~label.sk-toggleable__label {\n",
              "  /* fitted */\n",
              "  background-color: var(--sklearn-color-fitted-level-2);\n",
              "}\n",
              "\n",
              "#sk-container-id-2 div.sk-label label.sk-toggleable__label,\n",
              "#sk-container-id-2 div.sk-label label {\n",
              "  /* The background is the default theme color */\n",
              "  color: var(--sklearn-color-text-on-default-background);\n",
              "}\n",
              "\n",
              "/* On hover, darken the color of the background */\n",
              "#sk-container-id-2 div.sk-label:hover label.sk-toggleable__label {\n",
              "  color: var(--sklearn-color-text);\n",
              "  background-color: var(--sklearn-color-unfitted-level-2);\n",
              "}\n",
              "\n",
              "/* Label box, darken color on hover, fitted */\n",
              "#sk-container-id-2 div.sk-label.fitted:hover label.sk-toggleable__label.fitted {\n",
              "  color: var(--sklearn-color-text);\n",
              "  background-color: var(--sklearn-color-fitted-level-2);\n",
              "}\n",
              "\n",
              "/* Estimator label */\n",
              "\n",
              "#sk-container-id-2 div.sk-label label {\n",
              "  font-family: monospace;\n",
              "  font-weight: bold;\n",
              "  display: inline-block;\n",
              "  line-height: 1.2em;\n",
              "}\n",
              "\n",
              "#sk-container-id-2 div.sk-label-container {\n",
              "  text-align: center;\n",
              "}\n",
              "\n",
              "/* Estimator-specific */\n",
              "#sk-container-id-2 div.sk-estimator {\n",
              "  font-family: monospace;\n",
              "  border: 1px dotted var(--sklearn-color-border-box);\n",
              "  border-radius: 0.25em;\n",
              "  box-sizing: border-box;\n",
              "  margin-bottom: 0.5em;\n",
              "  /* unfitted */\n",
              "  background-color: var(--sklearn-color-unfitted-level-0);\n",
              "}\n",
              "\n",
              "#sk-container-id-2 div.sk-estimator.fitted {\n",
              "  /* fitted */\n",
              "  background-color: var(--sklearn-color-fitted-level-0);\n",
              "}\n",
              "\n",
              "/* on hover */\n",
              "#sk-container-id-2 div.sk-estimator:hover {\n",
              "  /* unfitted */\n",
              "  background-color: var(--sklearn-color-unfitted-level-2);\n",
              "}\n",
              "\n",
              "#sk-container-id-2 div.sk-estimator.fitted:hover {\n",
              "  /* fitted */\n",
              "  background-color: var(--sklearn-color-fitted-level-2);\n",
              "}\n",
              "\n",
              "/* Specification for estimator info (e.g. \"i\" and \"?\") */\n",
              "\n",
              "/* Common style for \"i\" and \"?\" */\n",
              "\n",
              ".sk-estimator-doc-link,\n",
              "a:link.sk-estimator-doc-link,\n",
              "a:visited.sk-estimator-doc-link {\n",
              "  float: right;\n",
              "  font-size: smaller;\n",
              "  line-height: 1em;\n",
              "  font-family: monospace;\n",
              "  background-color: var(--sklearn-color-background);\n",
              "  border-radius: 1em;\n",
              "  height: 1em;\n",
              "  width: 1em;\n",
              "  text-decoration: none !important;\n",
              "  margin-left: 1ex;\n",
              "  /* unfitted */\n",
              "  border: var(--sklearn-color-unfitted-level-1) 1pt solid;\n",
              "  color: var(--sklearn-color-unfitted-level-1);\n",
              "}\n",
              "\n",
              ".sk-estimator-doc-link.fitted,\n",
              "a:link.sk-estimator-doc-link.fitted,\n",
              "a:visited.sk-estimator-doc-link.fitted {\n",
              "  /* fitted */\n",
              "  border: var(--sklearn-color-fitted-level-1) 1pt solid;\n",
              "  color: var(--sklearn-color-fitted-level-1);\n",
              "}\n",
              "\n",
              "/* On hover */\n",
              "div.sk-estimator:hover .sk-estimator-doc-link:hover,\n",
              ".sk-estimator-doc-link:hover,\n",
              "div.sk-label-container:hover .sk-estimator-doc-link:hover,\n",
              ".sk-estimator-doc-link:hover {\n",
              "  /* unfitted */\n",
              "  background-color: var(--sklearn-color-unfitted-level-3);\n",
              "  color: var(--sklearn-color-background);\n",
              "  text-decoration: none;\n",
              "}\n",
              "\n",
              "div.sk-estimator.fitted:hover .sk-estimator-doc-link.fitted:hover,\n",
              ".sk-estimator-doc-link.fitted:hover,\n",
              "div.sk-label-container:hover .sk-estimator-doc-link.fitted:hover,\n",
              ".sk-estimator-doc-link.fitted:hover {\n",
              "  /* fitted */\n",
              "  background-color: var(--sklearn-color-fitted-level-3);\n",
              "  color: var(--sklearn-color-background);\n",
              "  text-decoration: none;\n",
              "}\n",
              "\n",
              "/* Span, style for the box shown on hovering the info icon */\n",
              ".sk-estimator-doc-link span {\n",
              "  display: none;\n",
              "  z-index: 9999;\n",
              "  position: relative;\n",
              "  font-weight: normal;\n",
              "  right: .2ex;\n",
              "  padding: .5ex;\n",
              "  margin: .5ex;\n",
              "  width: min-content;\n",
              "  min-width: 20ex;\n",
              "  max-width: 50ex;\n",
              "  color: var(--sklearn-color-text);\n",
              "  box-shadow: 2pt 2pt 4pt #999;\n",
              "  /* unfitted */\n",
              "  background: var(--sklearn-color-unfitted-level-0);\n",
              "  border: .5pt solid var(--sklearn-color-unfitted-level-3);\n",
              "}\n",
              "\n",
              ".sk-estimator-doc-link.fitted span {\n",
              "  /* fitted */\n",
              "  background: var(--sklearn-color-fitted-level-0);\n",
              "  border: var(--sklearn-color-fitted-level-3);\n",
              "}\n",
              "\n",
              ".sk-estimator-doc-link:hover span {\n",
              "  display: block;\n",
              "}\n",
              "\n",
              "/* \"?\"-specific style due to the `<a>` HTML tag */\n",
              "\n",
              "#sk-container-id-2 a.estimator_doc_link {\n",
              "  float: right;\n",
              "  font-size: 1rem;\n",
              "  line-height: 1em;\n",
              "  font-family: monospace;\n",
              "  background-color: var(--sklearn-color-background);\n",
              "  border-radius: 1rem;\n",
              "  height: 1rem;\n",
              "  width: 1rem;\n",
              "  text-decoration: none;\n",
              "  /* unfitted */\n",
              "  color: var(--sklearn-color-unfitted-level-1);\n",
              "  border: var(--sklearn-color-unfitted-level-1) 1pt solid;\n",
              "}\n",
              "\n",
              "#sk-container-id-2 a.estimator_doc_link.fitted {\n",
              "  /* fitted */\n",
              "  border: var(--sklearn-color-fitted-level-1) 1pt solid;\n",
              "  color: var(--sklearn-color-fitted-level-1);\n",
              "}\n",
              "\n",
              "/* On hover */\n",
              "#sk-container-id-2 a.estimator_doc_link:hover {\n",
              "  /* unfitted */\n",
              "  background-color: var(--sklearn-color-unfitted-level-3);\n",
              "  color: var(--sklearn-color-background);\n",
              "  text-decoration: none;\n",
              "}\n",
              "\n",
              "#sk-container-id-2 a.estimator_doc_link.fitted:hover {\n",
              "  /* fitted */\n",
              "  background-color: var(--sklearn-color-fitted-level-3);\n",
              "}\n",
              "</style><div id=\"sk-container-id-2\" class=\"sk-top-container\"><div class=\"sk-text-repr-fallback\"><pre>GridSearchCV(estimator=SVC(),\n",
              "             param_grid={&#x27;C&#x27;: [5e-05, 0.0005, 0.005, 0.05, 0.5, 5, 50, 500,\n",
              "                               5000, 50000],\n",
              "                         &#x27;kernel&#x27;: [&#x27;linear&#x27;]},\n",
              "             return_train_score=True)</pre><b>In a Jupyter environment, please rerun this cell to show the HTML representation or trust the notebook. <br />On GitHub, the HTML representation is unable to render, please try loading this page with nbviewer.org.</b></div><div class=\"sk-container\" hidden><div class=\"sk-item sk-dashed-wrapped\"><div class=\"sk-label-container\"><div class=\"sk-label fitted sk-toggleable\"><input class=\"sk-toggleable__control sk-hidden--visually\" id=\"sk-estimator-id-4\" type=\"checkbox\" ><label for=\"sk-estimator-id-4\" class=\"sk-toggleable__label fitted sk-toggleable__label-arrow fitted\">&nbsp;&nbsp;GridSearchCV<a class=\"sk-estimator-doc-link fitted\" rel=\"noreferrer\" target=\"_blank\" href=\"https://scikit-learn.org/1.4/modules/generated/sklearn.model_selection.GridSearchCV.html\">?<span>Documentation for GridSearchCV</span></a><span class=\"sk-estimator-doc-link fitted\">i<span>Fitted</span></span></label><div class=\"sk-toggleable__content fitted\"><pre>GridSearchCV(estimator=SVC(),\n",
              "             param_grid={&#x27;C&#x27;: [5e-05, 0.0005, 0.005, 0.05, 0.5, 5, 50, 500,\n",
              "                               5000, 50000],\n",
              "                         &#x27;kernel&#x27;: [&#x27;linear&#x27;]},\n",
              "             return_train_score=True)</pre></div> </div></div><div class=\"sk-parallel\"><div class=\"sk-parallel-item\"><div class=\"sk-item\"><div class=\"sk-label-container\"><div class=\"sk-label fitted sk-toggleable\"><input class=\"sk-toggleable__control sk-hidden--visually\" id=\"sk-estimator-id-5\" type=\"checkbox\" ><label for=\"sk-estimator-id-5\" class=\"sk-toggleable__label fitted sk-toggleable__label-arrow fitted\">estimator: SVC</label><div class=\"sk-toggleable__content fitted\"><pre>SVC()</pre></div> </div></div><div class=\"sk-serial\"><div class=\"sk-item\"><div class=\"sk-estimator fitted sk-toggleable\"><input class=\"sk-toggleable__control sk-hidden--visually\" id=\"sk-estimator-id-6\" type=\"checkbox\" ><label for=\"sk-estimator-id-6\" class=\"sk-toggleable__label fitted sk-toggleable__label-arrow fitted\">&nbsp;SVC<a class=\"sk-estimator-doc-link fitted\" rel=\"noreferrer\" target=\"_blank\" href=\"https://scikit-learn.org/1.4/modules/generated/sklearn.svm.SVC.html\">?<span>Documentation for SVC</span></a></label><div class=\"sk-toggleable__content fitted\"><pre>SVC()</pre></div> </div></div></div></div></div></div></div></div></div>"
            ]
          },
          "execution_count": 35,
          "metadata": {},
          "output_type": "execute_result"
        }
      ],
      "execution_count": null
    },
    {
      "cell_type": "code",
      "source": [
        "clf.cv_results_"
      ],
      "metadata": {
        "colab": {
          "base_uri": "https://localhost:8080/"
        },
        "id": "Evmcu9Il24QI",
        "outputId": "dedeb78e-4c8d-4e86-b293-63d3df9664e2",
        "ExecuteTime": {
          "end_time": "2024-05-02T06:17:53.411729Z",
          "start_time": "2024-05-02T06:17:53.396714Z"
        }
      },
      "outputs": [
        {
          "data": {
            "text/plain": [
              "{'mean_fit_time': array([2.68307428, 0.82636895, 0.44810772, 0.41008515, 0.440347  ,\n",
              "        0.38952184, 0.3985992 , 0.38898816, 0.40349045, 0.39814215]),\n",
              " 'std_fit_time': array([0.0866823 , 0.04475338, 0.02800328, 0.0227659 , 0.04867684,\n",
              "        0.00996059, 0.02858144, 0.03933765, 0.04719919, 0.0399322 ]),\n",
              " 'mean_score_time': array([0.49037695, 0.05803752, 0.04197493, 0.02145224, 0.03051744,\n",
              "        0.01911755, 0.03281407, 0.02944384, 0.02714291, 0.02784753]),\n",
              " 'std_score_time': array([0.03297022, 0.00642707, 0.01089103, 0.00585441, 0.00687232,\n",
              "        0.00360916, 0.00423093, 0.00754575, 0.00527899, 0.00735204]),\n",
              " 'param_C': masked_array(data=[5e-05, 0.0005, 0.005, 0.05, 0.5, 5, 50, 500, 5000,\n",
              "                    50000],\n",
              "              mask=[False, False, False, False, False, False, False, False,\n",
              "                    False, False],\n",
              "        fill_value='?',\n",
              "             dtype=object),\n",
              " 'param_kernel': masked_array(data=['linear', 'linear', 'linear', 'linear', 'linear',\n",
              "                    'linear', 'linear', 'linear', 'linear', 'linear'],\n",
              "              mask=[False, False, False, False, False, False, False, False,\n",
              "                    False, False],\n",
              "        fill_value='?',\n",
              "             dtype=object),\n",
              " 'params': [{'C': 5e-05, 'kernel': 'linear'},\n",
              "  {'C': 0.0005, 'kernel': 'linear'},\n",
              "  {'C': 0.005, 'kernel': 'linear'},\n",
              "  {'C': 0.05, 'kernel': 'linear'},\n",
              "  {'C': 0.5, 'kernel': 'linear'},\n",
              "  {'C': 5, 'kernel': 'linear'},\n",
              "  {'C': 50, 'kernel': 'linear'},\n",
              "  {'C': 500, 'kernel': 'linear'},\n",
              "  {'C': 5000, 'kernel': 'linear'},\n",
              "  {'C': 50000, 'kernel': 'linear'}],\n",
              " 'split0_test_score': array([1.        , 1.        , 1.        , 0.99957663, 0.99957663,\n",
              "        0.99957663, 0.99957663, 0.99957663, 0.99957663, 0.99957663]),\n",
              " 'split1_test_score': array([0.99788315, 0.99872989, 0.99872989, 0.99830652, 0.99830652,\n",
              "        0.99830652, 0.99830652, 0.99830652, 0.99830652, 0.99830652]),\n",
              " 'split2_test_score': array([0.99872989, 0.99915326, 0.99915326, 0.99957663, 0.99957663,\n",
              "        0.99957663, 0.99957663, 0.99957663, 0.99957663, 0.99957663]),\n",
              " 'split3_test_score': array([0.99618967, 0.99703641, 0.99745978, 0.99745978, 0.99745978,\n",
              "        0.99745978, 0.99745978, 0.99745978, 0.99745978, 0.99745978]),\n",
              " 'split4_test_score': array([0.99788225, 0.99872935, 0.99872935, 0.99872935, 0.99872935,\n",
              "        0.99872935, 0.99872935, 0.99872935, 0.99872935, 0.99872935]),\n",
              " 'mean_test_score': array([0.99813699, 0.99872978, 0.99881446, 0.99872978, 0.99872978,\n",
              "        0.99872978, 0.99872978, 0.99872978, 0.99872978, 0.99872978]),\n",
              " 'std_test_score': array([0.00124449, 0.00096543, 0.00082096, 0.00080329, 0.00080329,\n",
              "        0.00080329, 0.00080329, 0.00080329, 0.00080329, 0.00080329]),\n",
              " 'rank_test_score': array([10,  2,  1,  3,  3,  3,  3,  3,  3,  3]),\n",
              " 'split0_train_score': array([0.99777707, 0.99904732, 0.99968244, 1.        , 1.        ,\n",
              "        1.        , 1.        , 1.        , 1.        , 1.        ]),\n",
              " 'split1_train_score': array([0.99809463, 0.99904732, 0.99968244, 1.        , 1.        ,\n",
              "        1.        , 1.        , 1.        , 1.        , 1.        ]),\n",
              " 'split2_train_score': array([0.99809463, 0.99894146, 0.99978829, 1.        , 1.        ,\n",
              "        1.        , 1.        , 1.        , 1.        , 1.        ]),\n",
              " 'split3_train_score': array([0.9986239 , 0.99936488, 0.99978829, 1.        , 1.        ,\n",
              "        1.        , 1.        , 1.        , 1.        , 1.        ]),\n",
              " 'split4_train_score': array([0.99809483, 0.9992591 , 0.99978831, 1.        , 1.        ,\n",
              "        1.        , 1.        , 1.        , 1.        , 1.        ]),\n",
              " 'mean_train_score': array([0.99813702, 0.99913202, 0.99974596, 1.        , 1.        ,\n",
              "        1.        , 1.        , 1.        , 1.        , 1.        ]),\n",
              " 'std_train_score': array([2.72759681e-04, 1.55585356e-04, 5.18611753e-05, 0.00000000e+00,\n",
              "        0.00000000e+00, 0.00000000e+00, 0.00000000e+00, 0.00000000e+00,\n",
              "        0.00000000e+00, 0.00000000e+00])}"
            ]
          },
          "execution_count": 36,
          "metadata": {},
          "output_type": "execute_result"
        }
      ],
      "execution_count": null
    },
    {
      "cell_type": "code",
      "source": [
        "plt.plot([5*(10**(i)) for i in range(-5, 5)], 1-clf.cv_results_[\"mean_test_score\"], label=\"test_error\")\n",
        "plt.plot([5*(10**(i)) for i in range(-5, 5)], 1-clf.cv_results_[\"mean_train_score\"], label=\"train_error\")\n",
        "plt.xlabel(\"C\")\n",
        "plt.ylabel(\"Error\")\n",
        "plt.legend()\n",
        "plt.show()"
      ],
      "metadata": {
        "colab": {
          "base_uri": "https://localhost:8080/",
          "height": 458
        },
        "id": "lRakDxMpykVN",
        "outputId": "abceba2e-84d9-4667-99fb-2026e0734e07",
        "ExecuteTime": {
          "end_time": "2024-05-02T06:17:53.648681Z",
          "start_time": "2024-05-02T06:17:53.414012Z"
        }
      },
      "outputs": [
        {
          "data": {
            "text/plain": [
              "<Figure size 640x480 with 1 Axes>"
            ],
            "image/png": "[encoded data removed]"
          },
          "metadata": {},
          "output_type": "display_data"
        }
      ],
      "execution_count": null
    },
    {
      "cell_type": "code",
      "source": [
        "weights = clf.best_estimator_.coef_"
      ],
      "metadata": {
        "id": "BgQRtLVtyX4S",
        "ExecuteTime": {
          "end_time": "2024-05-02T06:17:53.655869Z",
          "start_time": "2024-05-02T06:17:53.648681Z"
        }
      },
      "outputs": [],
      "execution_count": null
    },
    {
      "cell_type": "code",
      "source": [
        "plt.pcolor(weights.reshape(28, 28), edgecolors='k', cmap=\"seismic\");\n",
        "plt.xticks([]);\n",
        "plt.yticks([]);"
      ],
      "metadata": {
        "colab": {
          "base_uri": "https://localhost:8080/",
          "height": 406
        },
        "id": "CNMKxPFcydBU",
        "outputId": "71c9cdc9-c2ff-4a57-fc5f-08bccf34546d",
        "ExecuteTime": {
          "end_time": "2024-05-02T06:17:53.746955Z",
          "start_time": "2024-05-02T06:17:53.657839Z"
        }
      },
      "outputs": [
        {
          "data": {
            "text/plain": [
              "<Figure size 640x480 with 1 Axes>"
            ],
            "image/png": "[encoded data removed]"
          },
          "metadata": {},
          "output_type": "display_data"
        }
      ],
      "execution_count": null
    },
    {
      "metadata": {
        "id": "OOebuON9W_x1"
      },
      "cell_type": "markdown",
      "source": [
        "Once again, the visual representation of the weight provide an insight on how the classifier works at a pixel level within the images. In this case, the number 0 is very much distinguished because of the big void in the center of it, so the pixels that could fill that empty space instantly provide a big likelihood that the number in the image is not a 0 which corresponds visually in the weights to the brightest red pixels in the whole image.  "
      ]
    },
    {
      "cell_type": "markdown",
      "source": [
        "## Kernelized Logistic Regression (from scratch)"
      ],
      "metadata": {
        "id": "Sr1Is8Y4MRVy"
      }
    },
    {
      "metadata": {
        "id": "24qrH1K2W_x1"
      },
      "cell_type": "markdown",
      "source": [
        "In order to rewrite the discriminant function in terms of the coefficients $\\alpha_i$ and the kernel, the following algebra is applied  "
      ]
    },
    {
      "cell_type": "markdown",
      "source": [
        "<p align=center>\n",
        "$\n",
        "f(x) = \\sigma(w\\phi(x))\n",
        "$\n",
        "<br>\n",
        "$\n",
        "f(x) = \\sigma(\\sum\\limits_{i=1}^l \\alpha_i\\phi(x_i))(\\phi(x))\n",
        "$\n",
        "<br>\n",
        "$\n",
        "f(x) = \\frac{1}{1+e^{-\\sum\\limits_{i=1}^l \\alpha_i \\phi(x_i)\\phi(x)}}\n",
        "$\n",
        "<br>\n",
        "$\n",
        "f(x) = \\frac{1}{1+e^{-\\sum\\limits_{i=1}^l \\alpha_i K(x_i, x)}}\n",
        "$\n",
        "</p>"
      ],
      "metadata": {
        "id": "J2QXU2D4vkrR"
      }
    },
    {
      "metadata": {
        "id": "c6dZeI9YW_x1"
      },
      "cell_type": "markdown",
      "source": [
        "In the last step it can be seen that the whole function is now rewritten in terms of the coefficients and the kernel. The kernel is obtained because of the expression in step 3, where the expression $\\phi(x_i)\\phi(x)$ correspond to the kernel"
      ]
    },
    {
      "metadata": {
        "id": "6037_QWTW_x1"
      },
      "cell_type": "markdown",
      "source": [
        "The whole optimization problem now consists of minimizing the loss, in this case, binary cross entropy, that can be defined as shown here after replacing the predicted value with the objective function which at the end is the predicted value"
      ]
    },
    {
      "cell_type": "markdown",
      "source": [
        "<p align=center>\n",
        "$\n",
        "\\min\\limits_{\\alpha} L_{CE}(\\textbf{y}, \\hat{\\textbf{y}})\n",
        "$\n",
        "</p>"
      ],
      "metadata": {
        "id": "UPkj3rVAqYS6"
      }
    },
    {
      "cell_type": "markdown",
      "source": [
        "<p align=center>\n",
        "$\n",
        "L_{CE}(\\textbf{y}, \\hat{\\textbf{y}}) = - \\sum\\limits_{j=1}^N\\left(y_i \\cdot log\\left(\\frac{1}{1+e^{-\\sum\\limits_{i=1}^l \\alpha_i K(x_i, x)}}\\right) + (1- y_i) \\cdot log\\left(1 - \\frac{1}{1+e^{-\\sum\\limits_{i=1}^l \\alpha_i K(x_i, x)}}\\right) \\right)\n",
        "$\n",
        "</p>"
      ],
      "metadata": {
        "id": "DnJDLLYBpOBd"
      }
    },
    {
      "cell_type": "code",
      "source": [
        "import numpy as np\n",
        "import matplotlib.pyplot as plt\n",
        "from scipy.optimize import minimize\n",
        "from sklearn.pipeline import make_pipeline\n",
        "from matplotlib.colors import ListedColormap\n",
        "from sklearn.preprocessing import StandardScaler\n",
        "from sklearn.model_selection import train_test_split\n",
        "from sklearn.inspection import DecisionBoundaryDisplay\n",
        "from sklearn.base import BaseEstimator, ClassifierMixin\n",
        "from sklearn.datasets import make_circles, make_classification, make_moons\n",
        "from sklearn.utils.validation import check_X_y, check_array, check_is_fitted"
      ],
      "metadata": {
        "id": "VaNfRch3P9tI",
        "ExecuteTime": {
          "end_time": "2024-05-02T06:18:02.089655Z",
          "start_time": "2024-05-02T06:17:53.746955Z"
        }
      },
      "outputs": [],
      "execution_count": null
    },
    {
      "metadata": {
        "id": "jOBwqx7DW_x2"
      },
      "cell_type": "markdown",
      "source": [
        "The first approach for implementing the regression was extending the BaseEstimator scikit-learn class in order to use some other internal functions like plotting the decision regions. However, even though the definition is well-defined and worked fine with the fit, predict and score, it did not work with the DecisionBoundaryDisplay.from_estimator method so the definition remained the same, but it is not used in any other internal sklearn's method"
      ]
    },
    {
      "cell_type": "code",
      "source": [
        "class logistic(BaseEstimator, ClassifierMixin):\n",
        "  def __init__(self, kernel_function):\n",
        "    self.kernel_func = kernel_function\n",
        "    self.alphas = None\n",
        "    self.kernel_train = None\n",
        "\n",
        "  def objective_function(self, alpha, K, y):\n",
        "    predictions = 1 / (1 + np.exp(-np.dot(alpha, K)))\n",
        "    loss = - np.sum(y * np.log(predictions) + (1 - y) * np.log(1 - predictions))\n",
        "    return loss\n",
        "\n",
        "  def fit(self, X, y):\n",
        "    self.X_train = X\n",
        "    N, D = X.shape\n",
        "    self.kernel_train = np.zeros((N, N))\n",
        "    for i in range(N):\n",
        "      for j in range(N):\n",
        "        self.kernel_train[i, j] = self.kernel_func(X[i], X[j])\n",
        "    alphas = np.zeros(N)\n",
        "    result = minimize(self.objective_function, alphas, args=(self.kernel_train, y), method='BFGS')\n",
        "    self.alphas = result.x\n",
        "    return self\n",
        "\n",
        "  def predict(self, X_test):\n",
        "    M, _ = X_test.shape\n",
        "    K_test = np.zeros((M, self.kernel_train.shape[0]))\n",
        "    for i in range(M):\n",
        "      for j in range(self.kernel_train.shape[0]):\n",
        "        K_test[i, j] = self.kernel_func(X_test[i], self.X_train[j])\n",
        "    predictions = 1 / (1 + np.exp(-np.dot(self.alphas, K_test.T)))\n",
        "    binary_predictions = (predictions > 0.5).astype(int)\n",
        "    return binary_predictions"
      ],
      "metadata": {
        "id": "mCwwhD4acBxB",
        "ExecuteTime": {
          "end_time": "2024-05-02T06:18:02.103640Z",
          "start_time": "2024-05-02T06:18:02.090675Z"
        }
      },
      "outputs": [],
      "execution_count": null
    },
    {
      "metadata": {
        "id": "F2RaeZjGW_x2"
      },
      "cell_type": "markdown",
      "source": [
        "Kernels definition"
      ]
    },
    {
      "cell_type": "code",
      "source": [
        "def linear_kernel(x1, x2):\n",
        "  return np.dot(x1, x2.T)\n",
        "def polynomial_kernel(x1, x2, degree=2):\n",
        "  return (1 + np.dot(x1, x2.T))**degree\n",
        "def gaussian_kernel(x1, x2, sigma=1.0):\n",
        "  return np.exp(-np.linalg.norm(x1 - x2)**2 / (2 * sigma**2))"
      ],
      "metadata": {
        "id": "RNQ7A35vRZJW",
        "ExecuteTime": {
          "end_time": "2024-05-02T06:18:02.112662Z",
          "start_time": "2024-05-02T06:18:02.103640Z"
        }
      },
      "outputs": [],
      "execution_count": null
    },
    {
      "metadata": {
        "id": "VaUePrUwW_x2"
      },
      "cell_type": "markdown",
      "source": [
        "Plotting the decision boundary following the example provided by the assignment (https://scikit-learn.org/stable/auto_examples/classification/plot_classifier_comparison.html). However, since the estimator is not well recognized by sklearn some changes were made."
      ]
    },
    {
      "cell_type": "code",
      "source": [
        "def plot_decision_boundary(ax, X_train, y_train, X_test, y_test, classifier, kernel_name, dataset_name):\n",
        "  colors = ('red', 'blue', 'lightgreen', 'gray', 'cyan')\n",
        "  cmap = ListedColormap(colors[:len(np.unique(y_train))])\n",
        "  x_min, x_max = X_train[:, 0].min() - 0.5, X_train[:, 0].max() + 0.5\n",
        "  y_min, y_max = X_train[:, 1].min() - 0.5, X_train[:, 1].max() + 0.5\n",
        "  xx, yy = np.meshgrid(np.arange(x_min, x_max, 0.02),\n",
        "                        np.arange(y_min, y_max, 0.02))\n",
        "  Z = classifier.predict(np.c_[xx.ravel(), yy.ravel()])\n",
        "  Z = Z.reshape(xx.shape)\n",
        "  ax.contourf(xx, yy, Z, alpha=0.4, cmap=cmap)\n",
        "  ax.scatter(X_train[:, 0], X_train[:, 1], c=y_train, cmap=cmap, edgecolors='k', marker='o', label='Train')\n",
        "  ax.scatter(X_test[:, 0], X_test[:, 1], c=y_test, cmap=cmap, edgecolors='k', marker='s', label='Test', alpha=0.6)\n",
        "  ax.set_xlim(xx.min(), xx.max())\n",
        "  ax.set_ylim(yy.min(), yy.max())\n",
        "  ax.set_xticks(())\n",
        "  ax.set_yticks(())\n",
        "  ax.set_title(f\"{dataset_name} - {kernel_name} kernel\")"
      ],
      "metadata": {
        "id": "f5eN_e_gwJuT",
        "ExecuteTime": {
          "end_time": "2024-05-02T06:18:02.125429Z",
          "start_time": "2024-05-02T06:18:02.115900Z"
        }
      },
      "outputs": [],
      "execution_count": null
    },
    {
      "metadata": {
        "id": "7ELYBQe5W_x3"
      },
      "cell_type": "markdown",
      "source": [
        "Some exponential overflow alert arise on the optimization process, the following cell is used to ignore the alerts when calling the function"
      ]
    },
    {
      "cell_type": "code",
      "source": [
        "import warnings\n",
        "warnings.filterwarnings(\"ignore\") # Hide exponential overflow warning"
      ],
      "metadata": {
        "id": "9ucwhSePzHGI",
        "ExecuteTime": {
          "end_time": "2024-05-02T06:18:02.134531Z",
          "start_time": "2024-05-02T06:18:02.127681Z"
        }
      },
      "outputs": [],
      "execution_count": null
    },
    {
      "cell_type": "code",
      "source": [
        "names = [\n",
        "    \"linear\",\n",
        "    \"polynomial\",\n",
        "    \"gaussian\",\n",
        "]\n",
        "classifiers = [\n",
        "    logistic(linear_kernel),\n",
        "    logistic(polynomial_kernel),\n",
        "    logistic(gaussian_kernel)\n",
        "]\n",
        "X, y = make_classification(\n",
        "    n_features=2, n_redundant=0, n_informative=2, random_state=1, n_clusters_per_class=1\n",
        ")\n",
        "rng = np.random.RandomState(2)\n",
        "X += 2 * rng.uniform(size=X.shape)\n",
        "linearly_separable = (X, y)\n",
        "datasets = [\n",
        "    make_moons(noise=0.3, random_state=0),\n",
        "    make_circles(noise=0.2, factor=0.5, random_state=1),\n",
        "    linearly_separable,\n",
        "]\n",
        "fig, axs = plt.subplots(len(datasets), len(classifiers), figsize=(8, 8))\n",
        "for i, ds in enumerate(datasets):\n",
        "  X_train, X_test, y_train, y_test = train_test_split(ds[0], ds[1], test_size=0.4, random_state=42)\n",
        "  for j, (name, clf) in enumerate(zip(names, classifiers)):\n",
        "    ax = axs[i, j]\n",
        "    if i == 0:\n",
        "        ax.set_title(name)\n",
        "    clf.fit(X_train, y_train)\n",
        "    plot_decision_boundary(ax, X_train, y_train, X_test, y_test, clf, name, f'Dataset {i+1}')\n",
        "\n",
        "plt.tight_layout()\n",
        "plt.show()"
      ],
      "metadata": {
        "colab": {
          "base_uri": "https://localhost:8080/",
          "height": 807
        },
        "id": "ePASea9BvTvP",
        "outputId": "8af81fe7-a5c3-4c17-d714-90a9acaa2c7b",
        "ExecuteTime": {
          "end_time": "2024-05-02T06:19:29.629876Z",
          "start_time": "2024-05-02T06:18:02.134531Z"
        }
      },
      "outputs": [
        {
          "data": {
            "text/plain": [
              "<Figure size 800x800 with 9 Axes>"
            ],
            "image/png": "[encoded data removed]"
          },
          "metadata": {},
          "output_type": "display_data"
        }
      ],
      "execution_count": null
    },
    {
      "metadata": {
        "id": "SBN4XO7qW_x3"
      },
      "cell_type": "markdown",
      "source": [
        "The results show that the gaussian kernel had the best performance for the three datasets (moons, circles and linear-separable respectively) visually at least because of the decision region plot. Fot the polynomial kernel the results were good for the circle dataset but really bad in the other two datasets, changing the degree is a good experiment for further work. For the linear kernel the results were good for the linear dataset but not so good on the other ones."
      ]
    }
  ]
}